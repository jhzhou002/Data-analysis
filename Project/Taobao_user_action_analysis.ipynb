{
 "cells": [
  {
   "cell_type": "code",
   "execution_count": 71,
   "id": "d6221360",
   "metadata": {},
   "outputs": [],
   "source": [
    "# 初步思路\n",
    "# 利用该数据集，可以完成以下简单的商业分析任务，通过数据分析和可视化展示，充分挖掘数据的价值，让数据更好地为业务服务：\n",
    "\n",
    "# 流量分析：PV/UV是多少，通过分析PV/UV能发现什么规律？\n",
    "# 漏斗分析：用户“浏览-收藏-加购-购买”的转化率是怎样的？哪一步的折损比例最大？\n",
    "# 用户价值分析：对电商平台什么样的用户是有价值的？如果我作为商家，要重点关注哪部分用户？"
   ]
  },
  {
   "cell_type": "code",
   "execution_count": 1,
   "id": "5ab2f0dd",
   "metadata": {},
   "outputs": [],
   "source": [
    "import pandas as pd\n",
    "import numpy as np\n",
    "import matplotlib.pyplot as plt\n",
    "import seaborn as sns"
   ]
  },
  {
   "cell_type": "code",
   "execution_count": 3,
   "id": "316592ad",
   "metadata": {},
   "outputs": [],
   "source": [
    "# 画图的主题设计\n",
    "sns.set_theme()\n",
    "sns.set_context('notebook')"
   ]
  },
  {
   "cell_type": "code",
   "execution_count": 5,
   "id": "a9b01c0b",
   "metadata": {},
   "outputs": [
    {
     "data": {
      "text/html": [
       "<div>\n",
       "<style scoped>\n",
       "    .dataframe tbody tr th:only-of-type {\n",
       "        vertical-align: middle;\n",
       "    }\n",
       "\n",
       "    .dataframe tbody tr th {\n",
       "        vertical-align: top;\n",
       "    }\n",
       "\n",
       "    .dataframe thead th {\n",
       "        text-align: right;\n",
       "    }\n",
       "</style>\n",
       "<table border=\"1\" class=\"dataframe\">\n",
       "  <thead>\n",
       "    <tr style=\"text-align: right;\">\n",
       "      <th></th>\n",
       "      <th>user_id</th>\n",
       "      <th>item_id</th>\n",
       "      <th>behavior_type</th>\n",
       "      <th>item_category</th>\n",
       "      <th>time</th>\n",
       "    </tr>\n",
       "  </thead>\n",
       "  <tbody>\n",
       "    <tr>\n",
       "      <th>0</th>\n",
       "      <td>98047837</td>\n",
       "      <td>232431562</td>\n",
       "      <td>1</td>\n",
       "      <td>4245</td>\n",
       "      <td>2014-12-06 02</td>\n",
       "    </tr>\n",
       "    <tr>\n",
       "      <th>1</th>\n",
       "      <td>97726136</td>\n",
       "      <td>383583590</td>\n",
       "      <td>1</td>\n",
       "      <td>5894</td>\n",
       "      <td>2014-12-09 20</td>\n",
       "    </tr>\n",
       "    <tr>\n",
       "      <th>2</th>\n",
       "      <td>98607707</td>\n",
       "      <td>64749712</td>\n",
       "      <td>1</td>\n",
       "      <td>2883</td>\n",
       "      <td>2014-12-18 11</td>\n",
       "    </tr>\n",
       "    <tr>\n",
       "      <th>3</th>\n",
       "      <td>98662432</td>\n",
       "      <td>320593836</td>\n",
       "      <td>1</td>\n",
       "      <td>6562</td>\n",
       "      <td>2014-12-06 10</td>\n",
       "    </tr>\n",
       "    <tr>\n",
       "      <th>4</th>\n",
       "      <td>98145908</td>\n",
       "      <td>290208520</td>\n",
       "      <td>1</td>\n",
       "      <td>13926</td>\n",
       "      <td>2014-12-16 21</td>\n",
       "    </tr>\n",
       "    <tr>\n",
       "      <th>5</th>\n",
       "      <td>93784494</td>\n",
       "      <td>337869048</td>\n",
       "      <td>1</td>\n",
       "      <td>3979</td>\n",
       "      <td>2014-12-03 20</td>\n",
       "    </tr>\n",
       "    <tr>\n",
       "      <th>6</th>\n",
       "      <td>94832743</td>\n",
       "      <td>105749725</td>\n",
       "      <td>1</td>\n",
       "      <td>9559</td>\n",
       "      <td>2014-12-13 20</td>\n",
       "    </tr>\n",
       "    <tr>\n",
       "      <th>7</th>\n",
       "      <td>95290487</td>\n",
       "      <td>76866650</td>\n",
       "      <td>1</td>\n",
       "      <td>10875</td>\n",
       "      <td>2014-11-27 16</td>\n",
       "    </tr>\n",
       "    <tr>\n",
       "      <th>8</th>\n",
       "      <td>96610296</td>\n",
       "      <td>161166643</td>\n",
       "      <td>1</td>\n",
       "      <td>3064</td>\n",
       "      <td>2014-12-11 23</td>\n",
       "    </tr>\n",
       "    <tr>\n",
       "      <th>9</th>\n",
       "      <td>100684618</td>\n",
       "      <td>21751142</td>\n",
       "      <td>3</td>\n",
       "      <td>2158</td>\n",
       "      <td>2014-12-05 23</td>\n",
       "    </tr>\n",
       "    <tr>\n",
       "      <th>10</th>\n",
       "      <td>100509623</td>\n",
       "      <td>266020206</td>\n",
       "      <td>3</td>\n",
       "      <td>4923</td>\n",
       "      <td>2014-12-08 17</td>\n",
       "    </tr>\n",
       "    <tr>\n",
       "      <th>11</th>\n",
       "      <td>101781721</td>\n",
       "      <td>139144131</td>\n",
       "      <td>1</td>\n",
       "      <td>3424</td>\n",
       "      <td>2014-12-13 21</td>\n",
       "    </tr>\n",
       "    <tr>\n",
       "      <th>12</th>\n",
       "      <td>103891828</td>\n",
       "      <td>255365467</td>\n",
       "      <td>1</td>\n",
       "      <td>552</td>\n",
       "      <td>2014-12-01 13</td>\n",
       "    </tr>\n",
       "    <tr>\n",
       "      <th>13</th>\n",
       "      <td>101260672</td>\n",
       "      <td>212072908</td>\n",
       "      <td>1</td>\n",
       "      <td>10984</td>\n",
       "      <td>2014-12-12 11</td>\n",
       "    </tr>\n",
       "    <tr>\n",
       "      <th>14</th>\n",
       "      <td>104811265</td>\n",
       "      <td>322736792</td>\n",
       "      <td>1</td>\n",
       "      <td>6513</td>\n",
       "      <td>2014-12-11 19</td>\n",
       "    </tr>\n",
       "    <tr>\n",
       "      <th>15</th>\n",
       "      <td>103802946</td>\n",
       "      <td>382807809</td>\n",
       "      <td>1</td>\n",
       "      <td>13103</td>\n",
       "      <td>2014-11-20 23</td>\n",
       "    </tr>\n",
       "    <tr>\n",
       "      <th>16</th>\n",
       "      <td>104221274</td>\n",
       "      <td>262661866</td>\n",
       "      <td>1</td>\n",
       "      <td>4370</td>\n",
       "      <td>2014-12-14 12</td>\n",
       "    </tr>\n",
       "    <tr>\n",
       "      <th>17</th>\n",
       "      <td>110418606</td>\n",
       "      <td>144902506</td>\n",
       "      <td>1</td>\n",
       "      <td>11639</td>\n",
       "      <td>2014-12-09 16</td>\n",
       "    </tr>\n",
       "    <tr>\n",
       "      <th>18</th>\n",
       "      <td>100684618</td>\n",
       "      <td>185630324</td>\n",
       "      <td>1</td>\n",
       "      <td>5204</td>\n",
       "      <td>2014-11-26 11</td>\n",
       "    </tr>\n",
       "    <tr>\n",
       "      <th>19</th>\n",
       "      <td>100509623</td>\n",
       "      <td>76021805</td>\n",
       "      <td>1</td>\n",
       "      <td>1308</td>\n",
       "      <td>2014-11-21 12</td>\n",
       "    </tr>\n",
       "  </tbody>\n",
       "</table>\n",
       "</div>"
      ],
      "text/plain": [
       "      user_id    item_id  behavior_type  item_category           time\n",
       "0    98047837  232431562              1           4245  2014-12-06 02\n",
       "1    97726136  383583590              1           5894  2014-12-09 20\n",
       "2    98607707   64749712              1           2883  2014-12-18 11\n",
       "3    98662432  320593836              1           6562  2014-12-06 10\n",
       "4    98145908  290208520              1          13926  2014-12-16 21\n",
       "5    93784494  337869048              1           3979  2014-12-03 20\n",
       "6    94832743  105749725              1           9559  2014-12-13 20\n",
       "7    95290487   76866650              1          10875  2014-11-27 16\n",
       "8    96610296  161166643              1           3064  2014-12-11 23\n",
       "9   100684618   21751142              3           2158  2014-12-05 23\n",
       "10  100509623  266020206              3           4923  2014-12-08 17\n",
       "11  101781721  139144131              1           3424  2014-12-13 21\n",
       "12  103891828  255365467              1            552  2014-12-01 13\n",
       "13  101260672  212072908              1          10984  2014-12-12 11\n",
       "14  104811265  322736792              1           6513  2014-12-11 19\n",
       "15  103802946  382807809              1          13103  2014-11-20 23\n",
       "16  104221274  262661866              1           4370  2014-12-14 12\n",
       "17  110418606  144902506              1          11639  2014-12-09 16\n",
       "18  100684618  185630324              1           5204  2014-11-26 11\n",
       "19  100509623   76021805              1           1308  2014-11-21 12"
      ]
     },
     "execution_count": 5,
     "metadata": {},
     "output_type": "execute_result"
    }
   ],
   "source": [
    "# 加载数据\n",
    "data_user = pd.read_csv(\"C:\\\\Users\\\\ASUS\\\\Desktop\\\\数据分析\\\\淘宝用户购物行为数据可视化分析\\\\数据集\\\\user_action.csv\")\n",
    "data_user.head(20)"
   ]
  },
  {
   "cell_type": "code",
   "execution_count": 6,
   "id": "402a6f74",
   "metadata": {},
   "outputs": [
    {
     "name": "stdout",
     "output_type": "stream",
     "text": [
      "整体数据集的大小为： 12256906\n",
      "数据集中的用户数： 10000\n",
      "数据集中的商品数量： 2876947\n",
      "数据集中商品类别数量是： 8916\n"
     ]
    }
   ],
   "source": [
    "# 查看数据集量级\n",
    "print(\"整体数据集的大小为：\",len(data_user))\n",
    "print(\"数据集中的用户数：\",len(set(data_user['user_id'])))\n",
    "print(\"数据集中的商品数量：\",len(set(data_user['item_id'])))\n",
    "print(\"数据集中商品类别数量是：\",len(set(data_user['item_category'])))"
   ]
  },
  {
   "cell_type": "code",
   "execution_count": 9,
   "id": "48ab0bc4",
   "metadata": {},
   "outputs": [
    {
     "data": {
      "text/plain": [
       "user_id          0\n",
       "item_id          0\n",
       "behavior_type    0\n",
       "item_category    0\n",
       "time             0\n",
       "dtype: int64"
      ]
     },
     "execution_count": 9,
     "metadata": {},
     "output_type": "execute_result"
    }
   ],
   "source": [
    "# 查看数据缺失情况\n",
    "data_user.isnull().sum()"
   ]
  },
  {
   "cell_type": "code",
   "execution_count": 10,
   "id": "63507853",
   "metadata": {},
   "outputs": [
    {
     "data": {
      "text/html": [
       "<div>\n",
       "<style scoped>\n",
       "    .dataframe tbody tr th:only-of-type {\n",
       "        vertical-align: middle;\n",
       "    }\n",
       "\n",
       "    .dataframe tbody tr th {\n",
       "        vertical-align: top;\n",
       "    }\n",
       "\n",
       "    .dataframe thead th {\n",
       "        text-align: right;\n",
       "    }\n",
       "</style>\n",
       "<table border=\"1\" class=\"dataframe\">\n",
       "  <thead>\n",
       "    <tr style=\"text-align: right;\">\n",
       "      <th></th>\n",
       "      <th>user_id</th>\n",
       "      <th>item_id</th>\n",
       "      <th>behavior_type</th>\n",
       "      <th>item_category</th>\n",
       "      <th>time</th>\n",
       "      <th>date</th>\n",
       "      <th>hour</th>\n",
       "    </tr>\n",
       "  </thead>\n",
       "  <tbody>\n",
       "    <tr>\n",
       "      <th>0</th>\n",
       "      <td>98047837</td>\n",
       "      <td>232431562</td>\n",
       "      <td>1</td>\n",
       "      <td>4245</td>\n",
       "      <td>2014-12-06 02</td>\n",
       "      <td>2014-12-06</td>\n",
       "      <td>02</td>\n",
       "    </tr>\n",
       "    <tr>\n",
       "      <th>1</th>\n",
       "      <td>97726136</td>\n",
       "      <td>383583590</td>\n",
       "      <td>1</td>\n",
       "      <td>5894</td>\n",
       "      <td>2014-12-09 20</td>\n",
       "      <td>2014-12-09</td>\n",
       "      <td>20</td>\n",
       "    </tr>\n",
       "    <tr>\n",
       "      <th>2</th>\n",
       "      <td>98607707</td>\n",
       "      <td>64749712</td>\n",
       "      <td>1</td>\n",
       "      <td>2883</td>\n",
       "      <td>2014-12-18 11</td>\n",
       "      <td>2014-12-18</td>\n",
       "      <td>11</td>\n",
       "    </tr>\n",
       "    <tr>\n",
       "      <th>3</th>\n",
       "      <td>98662432</td>\n",
       "      <td>320593836</td>\n",
       "      <td>1</td>\n",
       "      <td>6562</td>\n",
       "      <td>2014-12-06 10</td>\n",
       "      <td>2014-12-06</td>\n",
       "      <td>10</td>\n",
       "    </tr>\n",
       "    <tr>\n",
       "      <th>4</th>\n",
       "      <td>98145908</td>\n",
       "      <td>290208520</td>\n",
       "      <td>1</td>\n",
       "      <td>13926</td>\n",
       "      <td>2014-12-16 21</td>\n",
       "      <td>2014-12-16</td>\n",
       "      <td>21</td>\n",
       "    </tr>\n",
       "  </tbody>\n",
       "</table>\n",
       "</div>"
      ],
      "text/plain": [
       "    user_id    item_id  behavior_type  item_category           time  \\\n",
       "0  98047837  232431562              1           4245  2014-12-06 02   \n",
       "1  97726136  383583590              1           5894  2014-12-09 20   \n",
       "2  98607707   64749712              1           2883  2014-12-18 11   \n",
       "3  98662432  320593836              1           6562  2014-12-06 10   \n",
       "4  98145908  290208520              1          13926  2014-12-16 21   \n",
       "\n",
       "         date hour  \n",
       "0  2014-12-06   02  \n",
       "1  2014-12-09   20  \n",
       "2  2014-12-18   11  \n",
       "3  2014-12-06   10  \n",
       "4  2014-12-16   21  "
      ]
     },
     "execution_count": 10,
     "metadata": {},
     "output_type": "execute_result"
    }
   ],
   "source": [
    "# 分割天(date)和小时(hour)\n",
    "data_user['date'] = data_user['time'].map(lambda x: x.split(' ')[0])\n",
    "data_user['hour'] = data_user['time'].map(lambda x: x.split(' ')[1])\n",
    "data_user.head()"
   ]
  },
  {
   "cell_type": "code",
   "execution_count": 12,
   "id": "bdfdd64c",
   "metadata": {},
   "outputs": [
    {
     "data": {
      "text/plain": [
       "user_id           int64\n",
       "item_id           int64\n",
       "behavior_type     int64\n",
       "item_category     int64\n",
       "time             object\n",
       "date             object\n",
       "hour             object\n",
       "dtype: object"
      ]
     },
     "execution_count": 12,
     "metadata": {},
     "output_type": "execute_result"
    }
   ],
   "source": [
    "# 查看字段类型\n",
    "data_user.dtypes"
   ]
  },
  {
   "cell_type": "code",
   "execution_count": 14,
   "id": "76f0a31f",
   "metadata": {
    "scrolled": true
   },
   "outputs": [
    {
     "data": {
      "text/plain": [
       "user_id                  object\n",
       "item_id                  object\n",
       "behavior_type             int64\n",
       "item_category            object\n",
       "time                     object\n",
       "date             datetime64[ns]\n",
       "hour                      int64\n",
       "dtype: object"
      ]
     },
     "execution_count": 14,
     "metadata": {},
     "output_type": "execute_result"
    }
   ],
   "source": [
    "data_user['user_id'] = data_user['user_id'].astype('object')\n",
    "data_user['item_id'] = data_user['item_id'].astype('object')\n",
    "data_user['item_category'] = data_user['item_category'].astype('object')\n",
    "data_user['date'] = pd.to_datetime(data_user['date'])\n",
    "data_user['hour'] = data_user['hour'].astype('int64') \n",
    "\n",
    "data_user.dtypes\n"
   ]
  },
  {
   "cell_type": "markdown",
   "id": "4e1685bb",
   "metadata": {},
   "source": [
    "# Part1. 流量分析"
   ]
  },
  {
   "cell_type": "markdown",
   "id": "9f104e18",
   "metadata": {},
   "source": [
    "关注访问量(PV)与独立访问量(UV)：\n",
    "\n",
    "访问量(PV)：全名为PageView, 基于用户每次对淘宝页面的刷新次数，用户每刷新一次页面或者打开新的页面就记录就算一次访问。\n",
    "独立访问量(UV)：全名为UniqueVisitor，一个用户若多次访问淘宝只记录一次，本质上是unique操作。"
   ]
  },
  {
   "cell_type": "code",
   "execution_count": 17,
   "id": "771a39a7",
   "metadata": {},
   "outputs": [
    {
     "data": {
      "text/html": [
       "<div>\n",
       "<style scoped>\n",
       "    .dataframe tbody tr th:only-of-type {\n",
       "        vertical-align: middle;\n",
       "    }\n",
       "\n",
       "    .dataframe tbody tr th {\n",
       "        vertical-align: top;\n",
       "    }\n",
       "\n",
       "    .dataframe thead th {\n",
       "        text-align: right;\n",
       "    }\n",
       "</style>\n",
       "<table border=\"1\" class=\"dataframe\">\n",
       "  <thead>\n",
       "    <tr style=\"text-align: right;\">\n",
       "      <th></th>\n",
       "      <th>date</th>\n",
       "      <th>pv_daily</th>\n",
       "    </tr>\n",
       "  </thead>\n",
       "  <tbody>\n",
       "    <tr>\n",
       "      <th>0</th>\n",
       "      <td>2014-11-18</td>\n",
       "      <td>366701</td>\n",
       "    </tr>\n",
       "    <tr>\n",
       "      <th>1</th>\n",
       "      <td>2014-11-19</td>\n",
       "      <td>358823</td>\n",
       "    </tr>\n",
       "    <tr>\n",
       "      <th>2</th>\n",
       "      <td>2014-11-20</td>\n",
       "      <td>353429</td>\n",
       "    </tr>\n",
       "    <tr>\n",
       "      <th>3</th>\n",
       "      <td>2014-11-21</td>\n",
       "      <td>333104</td>\n",
       "    </tr>\n",
       "    <tr>\n",
       "      <th>4</th>\n",
       "      <td>2014-11-22</td>\n",
       "      <td>361355</td>\n",
       "    </tr>\n",
       "    <tr>\n",
       "      <th>5</th>\n",
       "      <td>2014-11-23</td>\n",
       "      <td>382702</td>\n",
       "    </tr>\n",
       "    <tr>\n",
       "      <th>6</th>\n",
       "      <td>2014-11-24</td>\n",
       "      <td>378342</td>\n",
       "    </tr>\n",
       "    <tr>\n",
       "      <th>7</th>\n",
       "      <td>2014-11-25</td>\n",
       "      <td>370239</td>\n",
       "    </tr>\n",
       "    <tr>\n",
       "      <th>8</th>\n",
       "      <td>2014-11-26</td>\n",
       "      <td>360896</td>\n",
       "    </tr>\n",
       "    <tr>\n",
       "      <th>9</th>\n",
       "      <td>2014-11-27</td>\n",
       "      <td>371384</td>\n",
       "    </tr>\n",
       "    <tr>\n",
       "      <th>10</th>\n",
       "      <td>2014-11-28</td>\n",
       "      <td>340638</td>\n",
       "    </tr>\n",
       "    <tr>\n",
       "      <th>11</th>\n",
       "      <td>2014-11-29</td>\n",
       "      <td>364697</td>\n",
       "    </tr>\n",
       "    <tr>\n",
       "      <th>12</th>\n",
       "      <td>2014-11-30</td>\n",
       "      <td>401620</td>\n",
       "    </tr>\n",
       "    <tr>\n",
       "      <th>13</th>\n",
       "      <td>2014-12-01</td>\n",
       "      <td>394611</td>\n",
       "    </tr>\n",
       "    <tr>\n",
       "      <th>14</th>\n",
       "      <td>2014-12-02</td>\n",
       "      <td>405216</td>\n",
       "    </tr>\n",
       "    <tr>\n",
       "      <th>15</th>\n",
       "      <td>2014-12-03</td>\n",
       "      <td>411606</td>\n",
       "    </tr>\n",
       "    <tr>\n",
       "      <th>16</th>\n",
       "      <td>2014-12-04</td>\n",
       "      <td>399952</td>\n",
       "    </tr>\n",
       "    <tr>\n",
       "      <th>17</th>\n",
       "      <td>2014-12-05</td>\n",
       "      <td>361878</td>\n",
       "    </tr>\n",
       "    <tr>\n",
       "      <th>18</th>\n",
       "      <td>2014-12-06</td>\n",
       "      <td>389610</td>\n",
       "    </tr>\n",
       "    <tr>\n",
       "      <th>19</th>\n",
       "      <td>2014-12-07</td>\n",
       "      <td>399751</td>\n",
       "    </tr>\n",
       "    <tr>\n",
       "      <th>20</th>\n",
       "      <td>2014-12-08</td>\n",
       "      <td>386667</td>\n",
       "    </tr>\n",
       "    <tr>\n",
       "      <th>21</th>\n",
       "      <td>2014-12-09</td>\n",
       "      <td>398025</td>\n",
       "    </tr>\n",
       "    <tr>\n",
       "      <th>22</th>\n",
       "      <td>2014-12-10</td>\n",
       "      <td>421910</td>\n",
       "    </tr>\n",
       "    <tr>\n",
       "      <th>23</th>\n",
       "      <td>2014-12-11</td>\n",
       "      <td>488508</td>\n",
       "    </tr>\n",
       "    <tr>\n",
       "      <th>24</th>\n",
       "      <td>2014-12-12</td>\n",
       "      <td>691712</td>\n",
       "    </tr>\n",
       "    <tr>\n",
       "      <th>25</th>\n",
       "      <td>2014-12-13</td>\n",
       "      <td>407160</td>\n",
       "    </tr>\n",
       "    <tr>\n",
       "      <th>26</th>\n",
       "      <td>2014-12-14</td>\n",
       "      <td>402541</td>\n",
       "    </tr>\n",
       "    <tr>\n",
       "      <th>27</th>\n",
       "      <td>2014-12-15</td>\n",
       "      <td>398356</td>\n",
       "    </tr>\n",
       "    <tr>\n",
       "      <th>28</th>\n",
       "      <td>2014-12-16</td>\n",
       "      <td>395085</td>\n",
       "    </tr>\n",
       "    <tr>\n",
       "      <th>29</th>\n",
       "      <td>2014-12-17</td>\n",
       "      <td>384791</td>\n",
       "    </tr>\n",
       "    <tr>\n",
       "      <th>30</th>\n",
       "      <td>2014-12-18</td>\n",
       "      <td>375597</td>\n",
       "    </tr>\n",
       "  </tbody>\n",
       "</table>\n",
       "</div>"
      ],
      "text/plain": [
       "         date  pv_daily\n",
       "0  2014-11-18    366701\n",
       "1  2014-11-19    358823\n",
       "2  2014-11-20    353429\n",
       "3  2014-11-21    333104\n",
       "4  2014-11-22    361355\n",
       "5  2014-11-23    382702\n",
       "6  2014-11-24    378342\n",
       "7  2014-11-25    370239\n",
       "8  2014-11-26    360896\n",
       "9  2014-11-27    371384\n",
       "10 2014-11-28    340638\n",
       "11 2014-11-29    364697\n",
       "12 2014-11-30    401620\n",
       "13 2014-12-01    394611\n",
       "14 2014-12-02    405216\n",
       "15 2014-12-03    411606\n",
       "16 2014-12-04    399952\n",
       "17 2014-12-05    361878\n",
       "18 2014-12-06    389610\n",
       "19 2014-12-07    399751\n",
       "20 2014-12-08    386667\n",
       "21 2014-12-09    398025\n",
       "22 2014-12-10    421910\n",
       "23 2014-12-11    488508\n",
       "24 2014-12-12    691712\n",
       "25 2014-12-13    407160\n",
       "26 2014-12-14    402541\n",
       "27 2014-12-15    398356\n",
       "28 2014-12-16    395085\n",
       "29 2014-12-17    384791\n",
       "30 2014-12-18    375597"
      ]
     },
     "execution_count": 17,
     "metadata": {},
     "output_type": "execute_result"
    }
   ],
   "source": [
    "# 计算PV：PageView，UV：UniqueView\n",
    "# PV：select count(user_id) from data_user group by \"date\"\n",
    "# UV:select count(distinct(user_id)) from data_user group by \"date\"\n",
    "\n",
    "pv_daily = data_user.groupby('date')['user_id'].count()\n",
    "# pv_daily.head()\n",
    "pv_daily = pv_daily.reset_index()\n",
    "pv_daily = pv_daily.rename(columns={'user_id':'pv_daily'})\n",
    "pv_daily"
   ]
  },
  {
   "cell_type": "code",
   "execution_count": 18,
   "id": "67fcded2",
   "metadata": {},
   "outputs": [
    {
     "data": {
      "text/html": [
       "<div>\n",
       "<style scoped>\n",
       "    .dataframe tbody tr th:only-of-type {\n",
       "        vertical-align: middle;\n",
       "    }\n",
       "\n",
       "    .dataframe tbody tr th {\n",
       "        vertical-align: top;\n",
       "    }\n",
       "\n",
       "    .dataframe thead th {\n",
       "        text-align: right;\n",
       "    }\n",
       "</style>\n",
       "<table border=\"1\" class=\"dataframe\">\n",
       "  <thead>\n",
       "    <tr style=\"text-align: right;\">\n",
       "      <th></th>\n",
       "      <th>date</th>\n",
       "      <th>uv_daily</th>\n",
       "    </tr>\n",
       "  </thead>\n",
       "  <tbody>\n",
       "    <tr>\n",
       "      <th>0</th>\n",
       "      <td>2014-11-18</td>\n",
       "      <td>6343</td>\n",
       "    </tr>\n",
       "    <tr>\n",
       "      <th>1</th>\n",
       "      <td>2014-11-19</td>\n",
       "      <td>6420</td>\n",
       "    </tr>\n",
       "    <tr>\n",
       "      <th>2</th>\n",
       "      <td>2014-11-20</td>\n",
       "      <td>6333</td>\n",
       "    </tr>\n",
       "    <tr>\n",
       "      <th>3</th>\n",
       "      <td>2014-11-21</td>\n",
       "      <td>6276</td>\n",
       "    </tr>\n",
       "    <tr>\n",
       "      <th>4</th>\n",
       "      <td>2014-11-22</td>\n",
       "      <td>6187</td>\n",
       "    </tr>\n",
       "    <tr>\n",
       "      <th>5</th>\n",
       "      <td>2014-11-23</td>\n",
       "      <td>6373</td>\n",
       "    </tr>\n",
       "    <tr>\n",
       "      <th>6</th>\n",
       "      <td>2014-11-24</td>\n",
       "      <td>6513</td>\n",
       "    </tr>\n",
       "    <tr>\n",
       "      <th>7</th>\n",
       "      <td>2014-11-25</td>\n",
       "      <td>6351</td>\n",
       "    </tr>\n",
       "    <tr>\n",
       "      <th>8</th>\n",
       "      <td>2014-11-26</td>\n",
       "      <td>6357</td>\n",
       "    </tr>\n",
       "    <tr>\n",
       "      <th>9</th>\n",
       "      <td>2014-11-27</td>\n",
       "      <td>6359</td>\n",
       "    </tr>\n",
       "    <tr>\n",
       "      <th>10</th>\n",
       "      <td>2014-11-28</td>\n",
       "      <td>6189</td>\n",
       "    </tr>\n",
       "    <tr>\n",
       "      <th>11</th>\n",
       "      <td>2014-11-29</td>\n",
       "      <td>6224</td>\n",
       "    </tr>\n",
       "    <tr>\n",
       "      <th>12</th>\n",
       "      <td>2014-11-30</td>\n",
       "      <td>6379</td>\n",
       "    </tr>\n",
       "    <tr>\n",
       "      <th>13</th>\n",
       "      <td>2014-12-01</td>\n",
       "      <td>6544</td>\n",
       "    </tr>\n",
       "    <tr>\n",
       "      <th>14</th>\n",
       "      <td>2014-12-02</td>\n",
       "      <td>6550</td>\n",
       "    </tr>\n",
       "    <tr>\n",
       "      <th>15</th>\n",
       "      <td>2014-12-03</td>\n",
       "      <td>6585</td>\n",
       "    </tr>\n",
       "    <tr>\n",
       "      <th>16</th>\n",
       "      <td>2014-12-04</td>\n",
       "      <td>6531</td>\n",
       "    </tr>\n",
       "    <tr>\n",
       "      <th>17</th>\n",
       "      <td>2014-12-05</td>\n",
       "      <td>6367</td>\n",
       "    </tr>\n",
       "    <tr>\n",
       "      <th>18</th>\n",
       "      <td>2014-12-06</td>\n",
       "      <td>6440</td>\n",
       "    </tr>\n",
       "    <tr>\n",
       "      <th>19</th>\n",
       "      <td>2014-12-07</td>\n",
       "      <td>6422</td>\n",
       "    </tr>\n",
       "    <tr>\n",
       "      <th>20</th>\n",
       "      <td>2014-12-08</td>\n",
       "      <td>6564</td>\n",
       "    </tr>\n",
       "    <tr>\n",
       "      <th>21</th>\n",
       "      <td>2014-12-09</td>\n",
       "      <td>6566</td>\n",
       "    </tr>\n",
       "    <tr>\n",
       "      <th>22</th>\n",
       "      <td>2014-12-10</td>\n",
       "      <td>6652</td>\n",
       "    </tr>\n",
       "    <tr>\n",
       "      <th>23</th>\n",
       "      <td>2014-12-11</td>\n",
       "      <td>6894</td>\n",
       "    </tr>\n",
       "    <tr>\n",
       "      <th>24</th>\n",
       "      <td>2014-12-12</td>\n",
       "      <td>7720</td>\n",
       "    </tr>\n",
       "    <tr>\n",
       "      <th>25</th>\n",
       "      <td>2014-12-13</td>\n",
       "      <td>6776</td>\n",
       "    </tr>\n",
       "    <tr>\n",
       "      <th>26</th>\n",
       "      <td>2014-12-14</td>\n",
       "      <td>6668</td>\n",
       "    </tr>\n",
       "    <tr>\n",
       "      <th>27</th>\n",
       "      <td>2014-12-15</td>\n",
       "      <td>6787</td>\n",
       "    </tr>\n",
       "    <tr>\n",
       "      <th>28</th>\n",
       "      <td>2014-12-16</td>\n",
       "      <td>6729</td>\n",
       "    </tr>\n",
       "    <tr>\n",
       "      <th>29</th>\n",
       "      <td>2014-12-17</td>\n",
       "      <td>6643</td>\n",
       "    </tr>\n",
       "    <tr>\n",
       "      <th>30</th>\n",
       "      <td>2014-12-18</td>\n",
       "      <td>6582</td>\n",
       "    </tr>\n",
       "  </tbody>\n",
       "</table>\n",
       "</div>"
      ],
      "text/plain": [
       "         date  uv_daily\n",
       "0  2014-11-18      6343\n",
       "1  2014-11-19      6420\n",
       "2  2014-11-20      6333\n",
       "3  2014-11-21      6276\n",
       "4  2014-11-22      6187\n",
       "5  2014-11-23      6373\n",
       "6  2014-11-24      6513\n",
       "7  2014-11-25      6351\n",
       "8  2014-11-26      6357\n",
       "9  2014-11-27      6359\n",
       "10 2014-11-28      6189\n",
       "11 2014-11-29      6224\n",
       "12 2014-11-30      6379\n",
       "13 2014-12-01      6544\n",
       "14 2014-12-02      6550\n",
       "15 2014-12-03      6585\n",
       "16 2014-12-04      6531\n",
       "17 2014-12-05      6367\n",
       "18 2014-12-06      6440\n",
       "19 2014-12-07      6422\n",
       "20 2014-12-08      6564\n",
       "21 2014-12-09      6566\n",
       "22 2014-12-10      6652\n",
       "23 2014-12-11      6894\n",
       "24 2014-12-12      7720\n",
       "25 2014-12-13      6776\n",
       "26 2014-12-14      6668\n",
       "27 2014-12-15      6787\n",
       "28 2014-12-16      6729\n",
       "29 2014-12-17      6643\n",
       "30 2014-12-18      6582"
      ]
     },
     "execution_count": 18,
     "metadata": {},
     "output_type": "execute_result"
    }
   ],
   "source": [
    "# 计算UV\n",
    "uv_daily = data_user.groupby('date')['user_id'].apply(lambda x: len(x.unique()))\n",
    "uv_daily = uv_daily.reset_index()\n",
    "uv_daily = uv_daily.rename(columns = {'user_id':'uv_daily'})\n",
    "uv_daily"
   ]
  },
  {
   "cell_type": "code",
   "execution_count": 21,
   "id": "46dfd5e0",
   "metadata": {},
   "outputs": [
    {
     "data": {
      "text/plain": [
       "Text(0.5, 1.0, 'uv_daily')"
      ]
     },
     "execution_count": 21,
     "metadata": {},
     "output_type": "execute_result"
    },
    {
     "data": {
      "image/png": "[encoded data removed]",
      "text/plain": [
       "<Figure size 432x288 with 2 Axes>"
      ]
     },
     "metadata": {},
     "output_type": "display_data"
    }
   ],
   "source": [
    "# 可视化\n",
    "fig,axes = plt.subplots(2,1,sharex=True)\n",
    "# pv_daily:pandas 对象\n",
    "# Matplotlib,Pandas,histplot:柱状图\n",
    "pv_daily.plot(x='date',y='pv_daily',ax=axes[0],colormap='cividis')\n",
    "uv_daily.plot(x='date',y='uv_daily',ax=axes[1],colormap='RdGy')\n",
    "axes[0].set_title('pv_daily')\n",
    "axes[1].set_title('uv_daily')"
   ]
  },
  {
   "cell_type": "markdown",
   "id": "6f46ed27",
   "metadata": {},
   "source": [
    "可以看出，不管是PV还是UV趋势，均在12号的时候出现了一个尖峰，这正是著名的“双十二”活动的用户集中消费导致的变化。通过简单的数据分析和可视化工具，这是从数据中观察到的第一个结论。"
   ]
  },
  {
   "cell_type": "markdown",
   "id": "46b8302b",
   "metadata": {},
   "source": [
    "# 2.基于小时级别访问流量分析"
   ]
  },
  {
   "cell_type": "code",
   "execution_count": 22,
   "id": "9650276b",
   "metadata": {},
   "outputs": [
    {
     "data": {
      "text/html": [
       "<div>\n",
       "<style scoped>\n",
       "    .dataframe tbody tr th:only-of-type {\n",
       "        vertical-align: middle;\n",
       "    }\n",
       "\n",
       "    .dataframe tbody tr th {\n",
       "        vertical-align: top;\n",
       "    }\n",
       "\n",
       "    .dataframe thead th {\n",
       "        text-align: right;\n",
       "    }\n",
       "</style>\n",
       "<table border=\"1\" class=\"dataframe\">\n",
       "  <thead>\n",
       "    <tr style=\"text-align: right;\">\n",
       "      <th></th>\n",
       "      <th>hour</th>\n",
       "      <th>pv_hour</th>\n",
       "    </tr>\n",
       "  </thead>\n",
       "  <tbody>\n",
       "    <tr>\n",
       "      <th>0</th>\n",
       "      <td>0</td>\n",
       "      <td>517404</td>\n",
       "    </tr>\n",
       "    <tr>\n",
       "      <th>1</th>\n",
       "      <td>1</td>\n",
       "      <td>267682</td>\n",
       "    </tr>\n",
       "    <tr>\n",
       "      <th>2</th>\n",
       "      <td>2</td>\n",
       "      <td>147090</td>\n",
       "    </tr>\n",
       "    <tr>\n",
       "      <th>3</th>\n",
       "      <td>3</td>\n",
       "      <td>98516</td>\n",
       "    </tr>\n",
       "    <tr>\n",
       "      <th>4</th>\n",
       "      <td>4</td>\n",
       "      <td>80487</td>\n",
       "    </tr>\n",
       "    <tr>\n",
       "      <th>5</th>\n",
       "      <td>5</td>\n",
       "      <td>88296</td>\n",
       "    </tr>\n",
       "    <tr>\n",
       "      <th>6</th>\n",
       "      <td>6</td>\n",
       "      <td>158798</td>\n",
       "    </tr>\n",
       "    <tr>\n",
       "      <th>7</th>\n",
       "      <td>7</td>\n",
       "      <td>287337</td>\n",
       "    </tr>\n",
       "    <tr>\n",
       "      <th>8</th>\n",
       "      <td>8</td>\n",
       "      <td>396106</td>\n",
       "    </tr>\n",
       "    <tr>\n",
       "      <th>9</th>\n",
       "      <td>9</td>\n",
       "      <td>485951</td>\n",
       "    </tr>\n",
       "    <tr>\n",
       "      <th>10</th>\n",
       "      <td>10</td>\n",
       "      <td>550665</td>\n",
       "    </tr>\n",
       "    <tr>\n",
       "      <th>11</th>\n",
       "      <td>11</td>\n",
       "      <td>526940</td>\n",
       "    </tr>\n",
       "    <tr>\n",
       "      <th>12</th>\n",
       "      <td>12</td>\n",
       "      <td>531957</td>\n",
       "    </tr>\n",
       "    <tr>\n",
       "      <th>13</th>\n",
       "      <td>13</td>\n",
       "      <td>598343</td>\n",
       "    </tr>\n",
       "    <tr>\n",
       "      <th>14</th>\n",
       "      <td>14</td>\n",
       "      <td>594215</td>\n",
       "    </tr>\n",
       "    <tr>\n",
       "      <th>15</th>\n",
       "      <td>15</td>\n",
       "      <td>598849</td>\n",
       "    </tr>\n",
       "    <tr>\n",
       "      <th>16</th>\n",
       "      <td>16</td>\n",
       "      <td>576207</td>\n",
       "    </tr>\n",
       "    <tr>\n",
       "      <th>17</th>\n",
       "      <td>17</td>\n",
       "      <td>505936</td>\n",
       "    </tr>\n",
       "    <tr>\n",
       "      <th>18</th>\n",
       "      <td>18</td>\n",
       "      <td>547383</td>\n",
       "    </tr>\n",
       "    <tr>\n",
       "      <th>19</th>\n",
       "      <td>19</td>\n",
       "      <td>735192</td>\n",
       "    </tr>\n",
       "    <tr>\n",
       "      <th>20</th>\n",
       "      <td>20</td>\n",
       "      <td>935161</td>\n",
       "    </tr>\n",
       "    <tr>\n",
       "      <th>21</th>\n",
       "      <td>21</td>\n",
       "      <td>1090178</td>\n",
       "    </tr>\n",
       "    <tr>\n",
       "      <th>22</th>\n",
       "      <td>22</td>\n",
       "      <td>1088961</td>\n",
       "    </tr>\n",
       "    <tr>\n",
       "      <th>23</th>\n",
       "      <td>23</td>\n",
       "      <td>849252</td>\n",
       "    </tr>\n",
       "  </tbody>\n",
       "</table>\n",
       "</div>"
      ],
      "text/plain": [
       "    hour  pv_hour\n",
       "0      0   517404\n",
       "1      1   267682\n",
       "2      2   147090\n",
       "3      3    98516\n",
       "4      4    80487\n",
       "5      5    88296\n",
       "6      6   158798\n",
       "7      7   287337\n",
       "8      8   396106\n",
       "9      9   485951\n",
       "10    10   550665\n",
       "11    11   526940\n",
       "12    12   531957\n",
       "13    13   598343\n",
       "14    14   594215\n",
       "15    15   598849\n",
       "16    16   576207\n",
       "17    17   505936\n",
       "18    18   547383\n",
       "19    19   735192\n",
       "20    20   935161\n",
       "21    21  1090178\n",
       "22    22  1088961\n",
       "23    23   849252"
      ]
     },
     "execution_count": 22,
     "metadata": {},
     "output_type": "execute_result"
    }
   ],
   "source": [
    "# 计算每个小时的PV\n",
    "pv_hour = data_user.groupby('hour')['user_id'].count()\n",
    "pv_hour = pv_hour.reset_index()\n",
    "pv_hour = pv_hour.rename(columns={'user_id':'pv_hour'})\n",
    "pv_hour"
   ]
  },
  {
   "cell_type": "code",
   "execution_count": 23,
   "id": "e41c3a7a",
   "metadata": {},
   "outputs": [
    {
     "data": {
      "text/html": [
       "<div>\n",
       "<style scoped>\n",
       "    .dataframe tbody tr th:only-of-type {\n",
       "        vertical-align: middle;\n",
       "    }\n",
       "\n",
       "    .dataframe tbody tr th {\n",
       "        vertical-align: top;\n",
       "    }\n",
       "\n",
       "    .dataframe thead th {\n",
       "        text-align: right;\n",
       "    }\n",
       "</style>\n",
       "<table border=\"1\" class=\"dataframe\">\n",
       "  <thead>\n",
       "    <tr style=\"text-align: right;\">\n",
       "      <th></th>\n",
       "      <th>hour</th>\n",
       "      <th>uv_hour</th>\n",
       "    </tr>\n",
       "  </thead>\n",
       "  <tbody>\n",
       "    <tr>\n",
       "      <th>0</th>\n",
       "      <td>0</td>\n",
       "      <td>5786</td>\n",
       "    </tr>\n",
       "    <tr>\n",
       "      <th>1</th>\n",
       "      <td>1</td>\n",
       "      <td>3780</td>\n",
       "    </tr>\n",
       "    <tr>\n",
       "      <th>2</th>\n",
       "      <td>2</td>\n",
       "      <td>2532</td>\n",
       "    </tr>\n",
       "    <tr>\n",
       "      <th>3</th>\n",
       "      <td>3</td>\n",
       "      <td>1937</td>\n",
       "    </tr>\n",
       "    <tr>\n",
       "      <th>4</th>\n",
       "      <td>4</td>\n",
       "      <td>1765</td>\n",
       "    </tr>\n",
       "    <tr>\n",
       "      <th>5</th>\n",
       "      <td>5</td>\n",
       "      <td>2030</td>\n",
       "    </tr>\n",
       "    <tr>\n",
       "      <th>6</th>\n",
       "      <td>6</td>\n",
       "      <td>3564</td>\n",
       "    </tr>\n",
       "    <tr>\n",
       "      <th>7</th>\n",
       "      <td>7</td>\n",
       "      <td>5722</td>\n",
       "    </tr>\n",
       "    <tr>\n",
       "      <th>8</th>\n",
       "      <td>8</td>\n",
       "      <td>7108</td>\n",
       "    </tr>\n",
       "    <tr>\n",
       "      <th>9</th>\n",
       "      <td>9</td>\n",
       "      <td>7734</td>\n",
       "    </tr>\n",
       "    <tr>\n",
       "      <th>10</th>\n",
       "      <td>10</td>\n",
       "      <td>8139</td>\n",
       "    </tr>\n",
       "    <tr>\n",
       "      <th>11</th>\n",
       "      <td>11</td>\n",
       "      <td>8239</td>\n",
       "    </tr>\n",
       "    <tr>\n",
       "      <th>12</th>\n",
       "      <td>12</td>\n",
       "      <td>8314</td>\n",
       "    </tr>\n",
       "    <tr>\n",
       "      <th>13</th>\n",
       "      <td>13</td>\n",
       "      <td>8352</td>\n",
       "    </tr>\n",
       "    <tr>\n",
       "      <th>14</th>\n",
       "      <td>14</td>\n",
       "      <td>8255</td>\n",
       "    </tr>\n",
       "    <tr>\n",
       "      <th>15</th>\n",
       "      <td>15</td>\n",
       "      <td>8257</td>\n",
       "    </tr>\n",
       "    <tr>\n",
       "      <th>16</th>\n",
       "      <td>16</td>\n",
       "      <td>8320</td>\n",
       "    </tr>\n",
       "    <tr>\n",
       "      <th>17</th>\n",
       "      <td>17</td>\n",
       "      <td>8228</td>\n",
       "    </tr>\n",
       "    <tr>\n",
       "      <th>18</th>\n",
       "      <td>18</td>\n",
       "      <td>8278</td>\n",
       "    </tr>\n",
       "    <tr>\n",
       "      <th>19</th>\n",
       "      <td>19</td>\n",
       "      <td>8538</td>\n",
       "    </tr>\n",
       "    <tr>\n",
       "      <th>20</th>\n",
       "      <td>20</td>\n",
       "      <td>8780</td>\n",
       "    </tr>\n",
       "    <tr>\n",
       "      <th>21</th>\n",
       "      <td>21</td>\n",
       "      <td>8866</td>\n",
       "    </tr>\n",
       "    <tr>\n",
       "      <th>22</th>\n",
       "      <td>22</td>\n",
       "      <td>8599</td>\n",
       "    </tr>\n",
       "    <tr>\n",
       "      <th>23</th>\n",
       "      <td>23</td>\n",
       "      <td>7484</td>\n",
       "    </tr>\n",
       "  </tbody>\n",
       "</table>\n",
       "</div>"
      ],
      "text/plain": [
       "    hour  uv_hour\n",
       "0      0     5786\n",
       "1      1     3780\n",
       "2      2     2532\n",
       "3      3     1937\n",
       "4      4     1765\n",
       "5      5     2030\n",
       "6      6     3564\n",
       "7      7     5722\n",
       "8      8     7108\n",
       "9      9     7734\n",
       "10    10     8139\n",
       "11    11     8239\n",
       "12    12     8314\n",
       "13    13     8352\n",
       "14    14     8255\n",
       "15    15     8257\n",
       "16    16     8320\n",
       "17    17     8228\n",
       "18    18     8278\n",
       "19    19     8538\n",
       "20    20     8780\n",
       "21    21     8866\n",
       "22    22     8599\n",
       "23    23     7484"
      ]
     },
     "execution_count": 23,
     "metadata": {},
     "output_type": "execute_result"
    }
   ],
   "source": [
    "# 计算每个小时的UV\n",
    "uv_hour = data_user.groupby('hour')['user_id'].apply(lambda x: len(x.unique()))\n",
    "uv_hour = uv_hour.reset_index()\n",
    "uv_hour = uv_hour.rename(columns={'user_id':'uv_hour'})\n",
    "uv_hour"
   ]
  },
  {
   "cell_type": "code",
   "execution_count": 25,
   "id": "ee7e73a6",
   "metadata": {},
   "outputs": [
    {
     "data": {
      "text/plain": [
       "Text(0.5, 1.0, 'uv_hour')"
      ]
     },
     "execution_count": 25,
     "metadata": {},
     "output_type": "execute_result"
    },
    {
     "data": {
      "image/png": "[encoded data removed]",
      "text/plain": [
       "<Figure size 432x288 with 2 Axes>"
      ]
     },
     "metadata": {},
     "output_type": "display_data"
    }
   ],
   "source": [
    "# 可视化\n",
    "fig,axes = plt.subplots(2,1,sharex=True)\n",
    "pv_hour.plot(x='hour',y='pv_hour',ax=axes[0],colormap='cividis')\n",
    "uv_hour.plot(x='hour',y='uv_hour',ax=axes[1],colormap='RdGy')\n",
    "axes[0].set_title('pv_hour')\n",
    "axes[1].set_title('uv_hour')\n",
    "\n"
   ]
  },
  {
   "cell_type": "markdown",
   "id": "5dac639b",
   "metadata": {},
   "source": [
    "可以看出，PV的高峰值出现在20点之后，可能的原因是淘宝的主力消费人群是工薪阶层，这部分群体在下班后开始使用淘宝浏览购物；UV的值比较恒定，上午10点之后便没有出现大的波动，一个可能的原因是用户早晨也会刷一下淘宝，比如看看物流状态，UV值在一天之内就不会再有大的变化波动了。 另外也可以看出，凌晨2点之后，PV/UV的趋势一致，均是一天中流量最小的时间段。"
   ]
  },
  {
   "cell_type": "code",
   "execution_count": 26,
   "id": "5f1a07c4",
   "metadata": {},
   "outputs": [
    {
     "data": {
      "text/html": [
       "<div>\n",
       "<style scoped>\n",
       "    .dataframe tbody tr th:only-of-type {\n",
       "        vertical-align: middle;\n",
       "    }\n",
       "\n",
       "    .dataframe tbody tr th {\n",
       "        vertical-align: top;\n",
       "    }\n",
       "\n",
       "    .dataframe thead th {\n",
       "        text-align: right;\n",
       "    }\n",
       "</style>\n",
       "<table border=\"1\" class=\"dataframe\">\n",
       "  <thead>\n",
       "    <tr style=\"text-align: right;\">\n",
       "      <th></th>\n",
       "      <th>user_id</th>\n",
       "      <th>item_id</th>\n",
       "      <th>behavior_type</th>\n",
       "      <th>item_category</th>\n",
       "      <th>time</th>\n",
       "      <th>date</th>\n",
       "      <th>hour</th>\n",
       "    </tr>\n",
       "  </thead>\n",
       "  <tbody>\n",
       "    <tr>\n",
       "      <th>13</th>\n",
       "      <td>101260672</td>\n",
       "      <td>212072908</td>\n",
       "      <td>1</td>\n",
       "      <td>10984</td>\n",
       "      <td>2014-12-12 11</td>\n",
       "      <td>2014-12-12</td>\n",
       "      <td>11</td>\n",
       "    </tr>\n",
       "    <tr>\n",
       "      <th>20</th>\n",
       "      <td>101781721</td>\n",
       "      <td>19349307</td>\n",
       "      <td>1</td>\n",
       "      <td>1863</td>\n",
       "      <td>2014-12-12 12</td>\n",
       "      <td>2014-12-12</td>\n",
       "      <td>12</td>\n",
       "    </tr>\n",
       "    <tr>\n",
       "      <th>54</th>\n",
       "      <td>100684618</td>\n",
       "      <td>94486594</td>\n",
       "      <td>1</td>\n",
       "      <td>10984</td>\n",
       "      <td>2014-12-12 23</td>\n",
       "      <td>2014-12-12</td>\n",
       "      <td>23</td>\n",
       "    </tr>\n",
       "    <tr>\n",
       "      <th>69</th>\n",
       "      <td>103802946</td>\n",
       "      <td>190848347</td>\n",
       "      <td>1</td>\n",
       "      <td>5232</td>\n",
       "      <td>2014-12-12 22</td>\n",
       "      <td>2014-12-12</td>\n",
       "      <td>22</td>\n",
       "    </tr>\n",
       "    <tr>\n",
       "      <th>95</th>\n",
       "      <td>104811265</td>\n",
       "      <td>354843735</td>\n",
       "      <td>1</td>\n",
       "      <td>10585</td>\n",
       "      <td>2014-12-12 21</td>\n",
       "      <td>2014-12-12</td>\n",
       "      <td>21</td>\n",
       "    </tr>\n",
       "    <tr>\n",
       "      <th>...</th>\n",
       "      <td>...</td>\n",
       "      <td>...</td>\n",
       "      <td>...</td>\n",
       "      <td>...</td>\n",
       "      <td>...</td>\n",
       "      <td>...</td>\n",
       "      <td>...</td>\n",
       "    </tr>\n",
       "    <tr>\n",
       "      <th>12256729</th>\n",
       "      <td>79359253</td>\n",
       "      <td>69183918</td>\n",
       "      <td>1</td>\n",
       "      <td>1863</td>\n",
       "      <td>2014-12-12 19</td>\n",
       "      <td>2014-12-12</td>\n",
       "      <td>19</td>\n",
       "    </tr>\n",
       "    <tr>\n",
       "      <th>12256874</th>\n",
       "      <td>91530370</td>\n",
       "      <td>181004546</td>\n",
       "      <td>1</td>\n",
       "      <td>12758</td>\n",
       "      <td>2014-12-12 23</td>\n",
       "      <td>2014-12-12</td>\n",
       "      <td>23</td>\n",
       "    </tr>\n",
       "    <tr>\n",
       "      <th>12256878</th>\n",
       "      <td>91530370</td>\n",
       "      <td>170765640</td>\n",
       "      <td>1</td>\n",
       "      <td>3381</td>\n",
       "      <td>2014-12-12 00</td>\n",
       "      <td>2014-12-12</td>\n",
       "      <td>0</td>\n",
       "    </tr>\n",
       "    <tr>\n",
       "      <th>12256896</th>\n",
       "      <td>91530370</td>\n",
       "      <td>94732789</td>\n",
       "      <td>1</td>\n",
       "      <td>12090</td>\n",
       "      <td>2014-12-12 23</td>\n",
       "      <td>2014-12-12</td>\n",
       "      <td>23</td>\n",
       "    </tr>\n",
       "    <tr>\n",
       "      <th>12256900</th>\n",
       "      <td>91530370</td>\n",
       "      <td>101985395</td>\n",
       "      <td>3</td>\n",
       "      <td>12090</td>\n",
       "      <td>2014-12-12 21</td>\n",
       "      <td>2014-12-12</td>\n",
       "      <td>21</td>\n",
       "    </tr>\n",
       "  </tbody>\n",
       "</table>\n",
       "<p>691712 rows × 7 columns</p>\n",
       "</div>"
      ],
      "text/plain": [
       "            user_id    item_id  behavior_type item_category           time  \\\n",
       "13        101260672  212072908              1         10984  2014-12-12 11   \n",
       "20        101781721   19349307              1          1863  2014-12-12 12   \n",
       "54        100684618   94486594              1         10984  2014-12-12 23   \n",
       "69        103802946  190848347              1          5232  2014-12-12 22   \n",
       "95        104811265  354843735              1         10585  2014-12-12 21   \n",
       "...             ...        ...            ...           ...            ...   \n",
       "12256729   79359253   69183918              1          1863  2014-12-12 19   \n",
       "12256874   91530370  181004546              1         12758  2014-12-12 23   \n",
       "12256878   91530370  170765640              1          3381  2014-12-12 00   \n",
       "12256896   91530370   94732789              1         12090  2014-12-12 23   \n",
       "12256900   91530370  101985395              3         12090  2014-12-12 21   \n",
       "\n",
       "               date  hour  \n",
       "13       2014-12-12    11  \n",
       "20       2014-12-12    12  \n",
       "54       2014-12-12    23  \n",
       "69       2014-12-12    22  \n",
       "95       2014-12-12    21  \n",
       "...             ...   ...  \n",
       "12256729 2014-12-12    19  \n",
       "12256874 2014-12-12    23  \n",
       "12256878 2014-12-12     0  \n",
       "12256896 2014-12-12    23  \n",
       "12256900 2014-12-12    21  \n",
       "\n",
       "[691712 rows x 7 columns]"
      ]
     },
     "execution_count": 26,
     "metadata": {},
     "output_type": "execute_result"
    }
   ],
   "source": [
    "# “双十二”当天基于小时的用户访问数据变化\n",
    "data_user_1212 = data_user.loc[data_user['date']=='2014-12-12']\n",
    "data_user_1212"
   ]
  },
  {
   "cell_type": "code",
   "execution_count": 72,
   "id": "9f6f8e40",
   "metadata": {},
   "outputs": [
    {
     "data": {
      "text/html": [
       "<div>\n",
       "<style scoped>\n",
       "    .dataframe tbody tr th:only-of-type {\n",
       "        vertical-align: middle;\n",
       "    }\n",
       "\n",
       "    .dataframe tbody tr th {\n",
       "        vertical-align: top;\n",
       "    }\n",
       "\n",
       "    .dataframe thead th {\n",
       "        text-align: right;\n",
       "    }\n",
       "</style>\n",
       "<table border=\"1\" class=\"dataframe\">\n",
       "  <thead>\n",
       "    <tr style=\"text-align: right;\">\n",
       "      <th></th>\n",
       "      <th>hour</th>\n",
       "      <th>1212_pv_hour</th>\n",
       "    </tr>\n",
       "  </thead>\n",
       "  <tbody>\n",
       "    <tr>\n",
       "      <th>0</th>\n",
       "      <td>0</td>\n",
       "      <td>50030</td>\n",
       "    </tr>\n",
       "    <tr>\n",
       "      <th>1</th>\n",
       "      <td>1</td>\n",
       "      <td>22761</td>\n",
       "    </tr>\n",
       "    <tr>\n",
       "      <th>2</th>\n",
       "      <td>2</td>\n",
       "      <td>11754</td>\n",
       "    </tr>\n",
       "    <tr>\n",
       "      <th>3</th>\n",
       "      <td>3</td>\n",
       "      <td>6173</td>\n",
       "    </tr>\n",
       "    <tr>\n",
       "      <th>4</th>\n",
       "      <td>4</td>\n",
       "      <td>5168</td>\n",
       "    </tr>\n",
       "    <tr>\n",
       "      <th>5</th>\n",
       "      <td>5</td>\n",
       "      <td>6417</td>\n",
       "    </tr>\n",
       "    <tr>\n",
       "      <th>6</th>\n",
       "      <td>6</td>\n",
       "      <td>12820</td>\n",
       "    </tr>\n",
       "    <tr>\n",
       "      <th>7</th>\n",
       "      <td>7</td>\n",
       "      <td>22177</td>\n",
       "    </tr>\n",
       "    <tr>\n",
       "      <th>8</th>\n",
       "      <td>8</td>\n",
       "      <td>28156</td>\n",
       "    </tr>\n",
       "    <tr>\n",
       "      <th>9</th>\n",
       "      <td>9</td>\n",
       "      <td>32695</td>\n",
       "    </tr>\n",
       "    <tr>\n",
       "      <th>10</th>\n",
       "      <td>10</td>\n",
       "      <td>32631</td>\n",
       "    </tr>\n",
       "    <tr>\n",
       "      <th>11</th>\n",
       "      <td>11</td>\n",
       "      <td>28029</td>\n",
       "    </tr>\n",
       "    <tr>\n",
       "      <th>12</th>\n",
       "      <td>12</td>\n",
       "      <td>30058</td>\n",
       "    </tr>\n",
       "    <tr>\n",
       "      <th>13</th>\n",
       "      <td>13</td>\n",
       "      <td>33136</td>\n",
       "    </tr>\n",
       "    <tr>\n",
       "      <th>14</th>\n",
       "      <td>14</td>\n",
       "      <td>29840</td>\n",
       "    </tr>\n",
       "    <tr>\n",
       "      <th>15</th>\n",
       "      <td>15</td>\n",
       "      <td>29744</td>\n",
       "    </tr>\n",
       "    <tr>\n",
       "      <th>16</th>\n",
       "      <td>16</td>\n",
       "      <td>29872</td>\n",
       "    </tr>\n",
       "    <tr>\n",
       "      <th>17</th>\n",
       "      <td>17</td>\n",
       "      <td>25570</td>\n",
       "    </tr>\n",
       "    <tr>\n",
       "      <th>18</th>\n",
       "      <td>18</td>\n",
       "      <td>27065</td>\n",
       "    </tr>\n",
       "    <tr>\n",
       "      <th>19</th>\n",
       "      <td>19</td>\n",
       "      <td>35238</td>\n",
       "    </tr>\n",
       "    <tr>\n",
       "      <th>20</th>\n",
       "      <td>20</td>\n",
       "      <td>43206</td>\n",
       "    </tr>\n",
       "    <tr>\n",
       "      <th>21</th>\n",
       "      <td>21</td>\n",
       "      <td>51259</td>\n",
       "    </tr>\n",
       "    <tr>\n",
       "      <th>22</th>\n",
       "      <td>22</td>\n",
       "      <td>51337</td>\n",
       "    </tr>\n",
       "    <tr>\n",
       "      <th>23</th>\n",
       "      <td>23</td>\n",
       "      <td>46576</td>\n",
       "    </tr>\n",
       "  </tbody>\n",
       "</table>\n",
       "</div>"
      ],
      "text/plain": [
       "    hour  1212_pv_hour\n",
       "0      0         50030\n",
       "1      1         22761\n",
       "2      2         11754\n",
       "3      3          6173\n",
       "4      4          5168\n",
       "5      5          6417\n",
       "6      6         12820\n",
       "7      7         22177\n",
       "8      8         28156\n",
       "9      9         32695\n",
       "10    10         32631\n",
       "11    11         28029\n",
       "12    12         30058\n",
       "13    13         33136\n",
       "14    14         29840\n",
       "15    15         29744\n",
       "16    16         29872\n",
       "17    17         25570\n",
       "18    18         27065\n",
       "19    19         35238\n",
       "20    20         43206\n",
       "21    21         51259\n",
       "22    22         51337\n",
       "23    23         46576"
      ]
     },
     "execution_count": 72,
     "metadata": {},
     "output_type": "execute_result"
    }
   ],
   "source": [
    "# 计算每小时的PV\n",
    "pv_hour_1212 = data_user_1212.groupby('hour')['user_id'].count()\n",
    "pv_hour_1212 = pv_hour_1212.reset_index()\n",
    "pv_hour_1212 = pv_hour_1212.rename(columns={'user_id':'1212_pv_hour'})\n",
    "uv_hour_1212 = data_user_1212.groupby('hour')['user_id'].apply(lambda x: len(x.unique())).reset_index().rename(columns={'user_id':'1212_uv_hour'})\n",
    "pv_hour_1212"
   ]
  },
  {
   "cell_type": "markdown",
   "id": "3b86ce91",
   "metadata": {},
   "source": [
    "和30日总体的小时级别PV/UV变化趋势做对比"
   ]
  },
  {
   "cell_type": "code",
   "execution_count": 30,
   "id": "691bb951",
   "metadata": {},
   "outputs": [
    {
     "data": {
      "text/plain": [
       "Text(0.5, 1.0, 'pv_hour_1212')"
      ]
     },
     "execution_count": 30,
     "metadata": {},
     "output_type": "execute_result"
    },
    {
     "data": {
      "image/png": "[encoded data removed]",
      "text/plain": [
       "<Figure size 432x288 with 2 Axes>"
      ]
     },
     "metadata": {},
     "output_type": "display_data"
    }
   ],
   "source": [
    "# 可视化PV\n",
    "fig,axes = plt.subplots(2,1,sharex=True)\n",
    "pv_hour.plot(x='hour',y='pv_hour',ax=axes[0],colormap='cividis')\n",
    "pv_hour_1212.plot(x='hour',y='1212_pv_hour',ax=axes[1],colormap='RdGy')\n",
    "axes[0].set_title('pv_hour')\n",
    "axes[1].set_title('pv_hour_1212')"
   ]
  },
  {
   "cell_type": "code",
   "execution_count": 31,
   "id": "41047794",
   "metadata": {},
   "outputs": [
    {
     "data": {
      "text/plain": [
       "Text(0.5, 1.0, 'uv_hour')"
      ]
     },
     "execution_count": 31,
     "metadata": {},
     "output_type": "execute_result"
    },
    {
     "data": {
      "image/png": "[encoded data removed]",
      "text/plain": [
       "<Figure size 432x288 with 2 Axes>"
      ]
     },
     "metadata": {},
     "output_type": "display_data"
    }
   ],
   "source": [
    "# 可视化UV\n",
    "fig, axes = plt.subplots(2,1,sharex=True)\n",
    "uv_hour.plot(x='hour',y='uv_hour',ax=axes[0],colormap='cividis')\n",
    "uv_hour_1212.plot(x='hour', y='1212_uv_hour', ax=axes[1],colormap='RdGy')\n",
    "axes[0].set_title('uv_hour')"
   ]
  },
  {
   "cell_type": "markdown",
   "id": "6b7058f9",
   "metadata": {},
   "source": [
    "可以看到，双十二当天，PV变化趋与一个月内的PV变化趋势基本一致，只不过曲线不太平滑，多出来小的凸点，一个可能的原因是大促当天，有整点领券活动，通过推送等形式会有效拉动用户使用淘宝。UV变化趋势稍有不同，可以看到双十二当天在晚上8点之后UV出现了小高峰，表明了大促当天用户的消费意愿还是比较强烈。"
   ]
  },
  {
   "cell_type": "markdown",
   "id": "c92490b3",
   "metadata": {},
   "source": [
    "# 3.不同用户行为流量分析"
   ]
  },
  {
   "cell_type": "markdown",
   "id": "1df5dbf3",
   "metadata": {},
   "source": [
    "为了获得用户的行为模式，主要统计在一天当中（按照每小时）用户发生的行为，因此使用groupby进行数据分组"
   ]
  },
  {
   "cell_type": "code",
   "execution_count": 33,
   "id": "c582840b",
   "metadata": {},
   "outputs": [
    {
     "data": {
      "text/html": [
       "<div>\n",
       "<style scoped>\n",
       "    .dataframe tbody tr th:only-of-type {\n",
       "        vertical-align: middle;\n",
       "    }\n",
       "\n",
       "    .dataframe tbody tr th {\n",
       "        vertical-align: top;\n",
       "    }\n",
       "\n",
       "    .dataframe thead th {\n",
       "        text-align: right;\n",
       "    }\n",
       "</style>\n",
       "<table border=\"1\" class=\"dataframe\">\n",
       "  <thead>\n",
       "    <tr style=\"text-align: right;\">\n",
       "      <th></th>\n",
       "      <th>behavior_type</th>\n",
       "      <th>hour</th>\n",
       "      <th>pv_behavior</th>\n",
       "    </tr>\n",
       "  </thead>\n",
       "  <tbody>\n",
       "    <tr>\n",
       "      <th>0</th>\n",
       "      <td>1</td>\n",
       "      <td>0</td>\n",
       "      <td>487341</td>\n",
       "    </tr>\n",
       "    <tr>\n",
       "      <th>1</th>\n",
       "      <td>1</td>\n",
       "      <td>1</td>\n",
       "      <td>252991</td>\n",
       "    </tr>\n",
       "    <tr>\n",
       "      <th>2</th>\n",
       "      <td>1</td>\n",
       "      <td>2</td>\n",
       "      <td>139139</td>\n",
       "    </tr>\n",
       "    <tr>\n",
       "      <th>3</th>\n",
       "      <td>1</td>\n",
       "      <td>3</td>\n",
       "      <td>93250</td>\n",
       "    </tr>\n",
       "    <tr>\n",
       "      <th>4</th>\n",
       "      <td>1</td>\n",
       "      <td>4</td>\n",
       "      <td>75832</td>\n",
       "    </tr>\n",
       "    <tr>\n",
       "      <th>...</th>\n",
       "      <td>...</td>\n",
       "      <td>...</td>\n",
       "      <td>...</td>\n",
       "    </tr>\n",
       "    <tr>\n",
       "      <th>91</th>\n",
       "      <td>4</td>\n",
       "      <td>19</td>\n",
       "      <td>6352</td>\n",
       "    </tr>\n",
       "    <tr>\n",
       "      <th>92</th>\n",
       "      <td>4</td>\n",
       "      <td>20</td>\n",
       "      <td>7872</td>\n",
       "    </tr>\n",
       "    <tr>\n",
       "      <th>93</th>\n",
       "      <td>4</td>\n",
       "      <td>21</td>\n",
       "      <td>8829</td>\n",
       "    </tr>\n",
       "    <tr>\n",
       "      <th>94</th>\n",
       "      <td>4</td>\n",
       "      <td>22</td>\n",
       "      <td>8845</td>\n",
       "    </tr>\n",
       "    <tr>\n",
       "      <th>95</th>\n",
       "      <td>4</td>\n",
       "      <td>23</td>\n",
       "      <td>6359</td>\n",
       "    </tr>\n",
       "  </tbody>\n",
       "</table>\n",
       "<p>96 rows × 3 columns</p>\n",
       "</div>"
      ],
      "text/plain": [
       "    behavior_type  hour  pv_behavior\n",
       "0               1     0       487341\n",
       "1               1     1       252991\n",
       "2               1     2       139139\n",
       "3               1     3        93250\n",
       "4               1     4        75832\n",
       "..            ...   ...          ...\n",
       "91              4    19         6352\n",
       "92              4    20         7872\n",
       "93              4    21         8829\n",
       "94              4    22         8845\n",
       "95              4    23         6359\n",
       "\n",
       "[96 rows x 3 columns]"
      ]
     },
     "execution_count": 33,
     "metadata": {},
     "output_type": "execute_result"
    }
   ],
   "source": [
    "# 基于behavior-type & hour 分组\n",
    "# 浏览、收藏、加购物车、购买四种行为，分别用数字1、2、3、4表示\n",
    "pv_behavior = data_user.groupby(['behavior_type','hour'])['user_id'].count()\n",
    "pv_behavior = pv_behavior.reset_index()\n",
    "pv_behavior = pv_behavior.rename(columns={'user_id':'pv_behavior'})\n",
    "pv_behavior"
   ]
  },
  {
   "cell_type": "code",
   "execution_count": 74,
   "id": "40c0bf47",
   "metadata": {},
   "outputs": [
    {
     "data": {
      "image/png": "[encoded data removed]",
      "text/plain": [
       "<Figure size 432x288 with 1 Axes>"
      ]
     },
     "metadata": {},
     "output_type": "display_data"
    }
   ],
   "source": [
    "# 可视化\n",
    "# sns：serborn\n",
    "ax = sns.lineplot(x='hour',y='pv_behavior',hue='behavior_type',data=pv_behavior)"
   ]
  },
  {
   "cell_type": "markdown",
   "id": "be8d8697",
   "metadata": {},
   "source": [
    "因为action_type为1（浏览行为）的占比非常大，导致图中其他几类action的趋势不太明显。"
   ]
  },
  {
   "cell_type": "code",
   "execution_count": 35,
   "id": "70b4287e",
   "metadata": {},
   "outputs": [
    {
     "data": {
      "text/plain": [
       "<AxesSubplot:xlabel='hour', ylabel='pv_behavior'>"
      ]
     },
     "execution_count": 35,
     "metadata": {},
     "output_type": "execute_result"
    },
    {
     "data": {
      "image/png": "[encoded data removed]",
      "text/plain": [
       "<Figure size 432x288 with 1 Axes>"
      ]
     },
     "metadata": {},
     "output_type": "display_data"
    }
   ],
   "source": [
    "# 去掉action_type为1的数据\n",
    "sns.lineplot(x='hour',y='pv_behavior',hue='behavior_type',data=pv_behavior[pv_behavior.behavior_type!=1])"
   ]
  },
  {
   "cell_type": "markdown",
   "id": "907d95e9",
   "metadata": {},
   "source": [
    "可以看出4种行为按照小时的变化趋势基本一致，都是在晚上8点之后有明显增长，凌晨2-6点是低峰，符合常识。"
   ]
  },
  {
   "cell_type": "markdown",
   "id": "8a821dd8",
   "metadata": {},
   "source": [
    "基于双十二当天的数据来分析这4中行为的变化趋势"
   ]
  },
  {
   "cell_type": "code",
   "execution_count": 39,
   "id": "42f84ab6",
   "metadata": {},
   "outputs": [
    {
     "data": {
      "text/html": [
       "<div>\n",
       "<style scoped>\n",
       "    .dataframe tbody tr th:only-of-type {\n",
       "        vertical-align: middle;\n",
       "    }\n",
       "\n",
       "    .dataframe tbody tr th {\n",
       "        vertical-align: top;\n",
       "    }\n",
       "\n",
       "    .dataframe thead th {\n",
       "        text-align: right;\n",
       "    }\n",
       "</style>\n",
       "<table border=\"1\" class=\"dataframe\">\n",
       "  <thead>\n",
       "    <tr style=\"text-align: right;\">\n",
       "      <th></th>\n",
       "      <th>behavior_type</th>\n",
       "      <th>hour</th>\n",
       "      <th>pv_behavior_1212</th>\n",
       "    </tr>\n",
       "  </thead>\n",
       "  <tbody>\n",
       "    <tr>\n",
       "      <th>0</th>\n",
       "      <td>1</td>\n",
       "      <td>0</td>\n",
       "      <td>45229</td>\n",
       "    </tr>\n",
       "    <tr>\n",
       "      <th>1</th>\n",
       "      <td>1</td>\n",
       "      <td>1</td>\n",
       "      <td>20988</td>\n",
       "    </tr>\n",
       "    <tr>\n",
       "      <th>2</th>\n",
       "      <td>1</td>\n",
       "      <td>2</td>\n",
       "      <td>10896</td>\n",
       "    </tr>\n",
       "    <tr>\n",
       "      <th>3</th>\n",
       "      <td>1</td>\n",
       "      <td>3</td>\n",
       "      <td>5762</td>\n",
       "    </tr>\n",
       "    <tr>\n",
       "      <th>4</th>\n",
       "      <td>1</td>\n",
       "      <td>4</td>\n",
       "      <td>4827</td>\n",
       "    </tr>\n",
       "    <tr>\n",
       "      <th>...</th>\n",
       "      <td>...</td>\n",
       "      <td>...</td>\n",
       "      <td>...</td>\n",
       "    </tr>\n",
       "    <tr>\n",
       "      <th>91</th>\n",
       "      <td>4</td>\n",
       "      <td>19</td>\n",
       "      <td>577</td>\n",
       "    </tr>\n",
       "    <tr>\n",
       "      <th>92</th>\n",
       "      <td>4</td>\n",
       "      <td>20</td>\n",
       "      <td>643</td>\n",
       "    </tr>\n",
       "    <tr>\n",
       "      <th>93</th>\n",
       "      <td>4</td>\n",
       "      <td>21</td>\n",
       "      <td>850</td>\n",
       "    </tr>\n",
       "    <tr>\n",
       "      <th>94</th>\n",
       "      <td>4</td>\n",
       "      <td>22</td>\n",
       "      <td>985</td>\n",
       "    </tr>\n",
       "    <tr>\n",
       "      <th>95</th>\n",
       "      <td>4</td>\n",
       "      <td>23</td>\n",
       "      <td>950</td>\n",
       "    </tr>\n",
       "  </tbody>\n",
       "</table>\n",
       "<p>96 rows × 3 columns</p>\n",
       "</div>"
      ],
      "text/plain": [
       "    behavior_type  hour  pv_behavior_1212\n",
       "0               1     0             45229\n",
       "1               1     1             20988\n",
       "2               1     2             10896\n",
       "3               1     3              5762\n",
       "4               1     4              4827\n",
       "..            ...   ...               ...\n",
       "91              4    19               577\n",
       "92              4    20               643\n",
       "93              4    21               850\n",
       "94              4    22               985\n",
       "95              4    23               950\n",
       "\n",
       "[96 rows x 3 columns]"
      ]
     },
     "execution_count": 39,
     "metadata": {},
     "output_type": "execute_result"
    }
   ],
   "source": [
    "# 基于behavior-type & hour 分组\n",
    "# 浏览、收藏、加购物车、购买四种行为，分别用数字1、2、3、4表示\n",
    "pv_behavior_1212 = data_user_1212.groupby(['behavior_type','hour'])['user_id'].count()\n",
    "pv_behavior_1212 = pv_behavior_1212.reset_index()\n",
    "pv_behavior_1212 = pv_behavior_1212.rename(columns={'user_id':'pv_behavior_1212'})\n",
    "pv_behavior_1212"
   ]
  },
  {
   "cell_type": "code",
   "execution_count": 40,
   "id": "d95d5598",
   "metadata": {},
   "outputs": [
    {
     "data": {
      "image/png": "[encoded data removed]",
      "text/plain": [
       "<Figure size 432x288 with 1 Axes>"
      ]
     },
     "metadata": {},
     "output_type": "display_data"
    }
   ],
   "source": [
    "# 可视化\n",
    "# sns：serborn\n",
    "ax_1212 = sns.lineplot(x='hour',y='pv_behavior_1212',hue='behavior_type',data=pv_behavior_1212)"
   ]
  },
  {
   "cell_type": "code",
   "execution_count": 41,
   "id": "af527915",
   "metadata": {},
   "outputs": [
    {
     "data": {
      "text/plain": [
       "<AxesSubplot:xlabel='hour', ylabel='pv_behavior_1212'>"
      ]
     },
     "execution_count": 41,
     "metadata": {},
     "output_type": "execute_result"
    },
    {
     "data": {
      "image/png": "[encoded data removed]",
      "text/plain": [
       "<Figure size 432x288 with 1 Axes>"
      ]
     },
     "metadata": {},
     "output_type": "display_data"
    }
   ],
   "source": [
    "# 去掉action_type为1的数据\n",
    "sns.lineplot(x='hour',y='pv_behavior_1212',hue='behavior_type',data=pv_behavior_1212[pv_behavior_1212.behavior_type!=1])"
   ]
  },
  {
   "cell_type": "markdown",
   "id": "3ae5322a",
   "metadata": {},
   "source": [
    "可以看出在双十二当天零点开始，购买是大于加购物车的，一个可能的原因是零点领券活动。整体来看，这一天大部分时间购买是大于加购物车的，可能是双十二活动当天大促销。"
   ]
  },
  {
   "cell_type": "markdown",
   "id": "43332dff",
   "metadata": {},
   "source": [
    "# Part2.转化率分析"
   ]
  },
  {
   "cell_type": "markdown",
   "id": "82d7ad60",
   "metadata": {},
   "source": [
    "分析“浏览-收藏-加购物车-购买”链路的转化漏斗模型，可以帮助我们更好的了解各个环节的转化链路"
   ]
  },
  {
   "cell_type": "code",
   "execution_count": 42,
   "id": "15c0e40b",
   "metadata": {},
   "outputs": [
    {
     "data": {
      "text/plain": [
       "behavior_type\n",
       "1    11550581\n",
       "2      242556\n",
       "3      343564\n",
       "4      120205\n",
       "Name: user_id, dtype: int64"
      ]
     },
     "execution_count": 42,
     "metadata": {},
     "output_type": "execute_result"
    }
   ],
   "source": [
    "behavior_type = data_user.groupby(['behavior_type'])['user_id'].count()\n",
    "behavior_type"
   ]
  },
  {
   "cell_type": "markdown",
   "id": "e62106b9",
   "metadata": {},
   "source": [
    "可以看到，用户浏览（action_type=1）的基数是最大的，由于加购物车和收藏没有必然联系，因此把这两类合并在一起来做分析。"
   ]
  },
  {
   "cell_type": "code",
   "execution_count": 44,
   "id": "32bbd9cf",
   "metadata": {},
   "outputs": [
    {
     "name": "stdout",
     "output_type": "stream",
     "text": [
      "浏览到加购物车&收藏转化率: 5.074376778103197\n",
      "浏览到购买转化率: 1.0406835811982098\n",
      "加购物车&收藏到购买转化率: 20.508598921722513\n"
     ]
    }
   ],
   "source": [
    "click_num,fav_num,add_num,pay_num = behavior_type[1],behavior_type[2],behavior_type[3],behavior_type[4]\n",
    "fav_add_num = fav_num + add_num\n",
    "print(\"浏览到加购物车&收藏转化率:\",100*fav_add_num/click_num)\n",
    "print(\"浏览到购买转化率:\",100*pay_num/click_num)\n",
    "print(\"加购物车&收藏到购买转化率:\",100*pay_num/fav_add_num)"
   ]
  },
  {
   "cell_type": "markdown",
   "id": "775b459d",
   "metadata": {},
   "source": [
    "分析双十二当天的数据"
   ]
  },
  {
   "cell_type": "code",
   "execution_count": 47,
   "id": "6a245ebd",
   "metadata": {},
   "outputs": [
    {
     "data": {
      "text/plain": [
       "behavior_type\n",
       "1    641507\n",
       "2     10446\n",
       "3     24508\n",
       "4     15251\n",
       "Name: user_id, dtype: int64"
      ]
     },
     "execution_count": 47,
     "metadata": {},
     "output_type": "execute_result"
    }
   ],
   "source": [
    "behavior_type_1212 = data_user_1212.groupby(['behavior_type'])['user_id'].count()\n",
    "behavior_type_1212"
   ]
  },
  {
   "cell_type": "code",
   "execution_count": 48,
   "id": "11a9499e",
   "metadata": {},
   "outputs": [
    {
     "name": "stdout",
     "output_type": "stream",
     "text": [
      "浏览到加购物车&收藏转化率: 5.448732437837779\n",
      "浏览到购买转化率: 2.3773707847303305\n",
      "加购物车&收藏到购买转化率: 43.631630142472964\n"
     ]
    }
   ],
   "source": [
    "click_num_1212,fav_num_1212,add_num_1212,pay_num_1212 = behavior_type_1212[1],behavior_type_1212[2],behavior_type_1212[3],behavior_type_1212[4]\n",
    "fav_add_num_1212 = fav_num_1212 + add_num_1212\n",
    "print(\"浏览到加购物车&收藏转化率:\",100*fav_add_num_1212/click_num_1212)\n",
    "print(\"浏览到购买转化率:\",100*pay_num_1212/click_num_1212)\n",
    "print(\"加购物车&收藏到购买转化率:\",100*pay_num_1212/fav_add_num_1212)"
   ]
  },
  {
   "cell_type": "markdown",
   "id": "4942cccc",
   "metadata": {},
   "source": [
    "可以看出，双十二当天，加购物车&收藏到购买转化率是平时的2倍之多，此外，浏览到加购物车&收藏的转化率也比平时高出不少，说明大促的运营活动对用户活跃度的转化起到了很好的促进作用。因此，对于商家来说，可以考虑在特定节日退出特定主题的优惠活动，是个有效的促活、转化的方式。"
   ]
  },
  {
   "cell_type": "markdown",
   "id": "4a8f25bd",
   "metadata": {},
   "source": [
    "# Part3.用户价值分析"
   ]
  },
  {
   "cell_type": "markdown",
   "id": "a1f8c23b",
   "metadata": {},
   "source": [
    "# 4.用户购买频次分析"
   ]
  },
  {
   "cell_type": "code",
   "execution_count": 49,
   "id": "431248d9",
   "metadata": {},
   "outputs": [
    {
     "data": {
      "text/plain": [
       "user_id\n",
       "4913          6\n",
       "6118          1\n",
       "7528          6\n",
       "7591         21\n",
       "12645         8\n",
       "             ..\n",
       "142376113     1\n",
       "142412247    12\n",
       "142430177     5\n",
       "142450275    40\n",
       "142455899    13\n",
       "Name: behavior_type, Length: 8886, dtype: int64"
      ]
     },
     "execution_count": 49,
     "metadata": {},
     "output_type": "execute_result"
    }
   ],
   "source": [
    "# 浏览 >> 加购物车&收藏 >> 购买\n",
    "data_user_buy = data_user[data_user.behavior_type==4].groupby('user_id')['behavior_type'].count()\n",
    "data_user_buy"
   ]
  },
  {
   "cell_type": "code",
   "execution_count": 50,
   "id": "4acd8b15",
   "metadata": {},
   "outputs": [
    {
     "data": {
      "text/plain": [
       "<AxesSubplot:xlabel='user_id'>"
      ]
     },
     "execution_count": 50,
     "metadata": {},
     "output_type": "execute_result"
    },
    {
     "data": {
      "image/png": "[encoded data removed]",
      "text/plain": [
       "<Figure size 432x288 with 1 Axes>"
      ]
     },
     "metadata": {},
     "output_type": "display_data"
    }
   ],
   "source": [
    "data_user_buy.plot(x='user_id',y='buy_count')"
   ]
  },
  {
   "cell_type": "markdown",
   "id": "7044cd0e",
   "metadata": {},
   "source": [
    "X轴代表user_id，Y轴是每个用户的购买次数。可以看到，大部分用户的购买次数均不超过50次，这期间还包括了双十二当天的集中购物，排除双十二高峰，实际消费次数会更少。当然也有部分用户的购买次数超过百次，甚至有超过800次的，高频消费的用户可以看作是忠实的超级用户。"
   ]
  },
  {
   "cell_type": "markdown",
   "id": "22d56e38",
   "metadata": {},
   "source": [
    "# 5.ARPU分析"
   ]
  },
  {
   "cell_type": "markdown",
   "id": "aa833943",
   "metadata": {},
   "source": [
    "ARPU(Average Revenue Per User) 表示每日的收益在所有活跃用户中的转化。详细的描述为，每日的所有收益与每日的活跃的用户数量有关，因此可以通过ARPU来计算，每日活跃用户对每日收益的转化效率。"
   ]
  },
  {
   "cell_type": "markdown",
   "id": "6e39fda9",
   "metadata": {},
   "source": [
    "该数据集中没有对金额的体现。那我们可以对ARPU这个指标做一些修改，改为度量平台活跃用户每日平均消费次数。\n",
    "\n",
    "计算公式为： ARPU = 每日消费总次数 / 每日活跃用户数"
   ]
  },
  {
   "cell_type": "code",
   "execution_count": 52,
   "id": "5b71f644",
   "metadata": {},
   "outputs": [
    {
     "data": {
      "text/html": [
       "<div>\n",
       "<style scoped>\n",
       "    .dataframe tbody tr th:only-of-type {\n",
       "        vertical-align: middle;\n",
       "    }\n",
       "\n",
       "    .dataframe tbody tr th {\n",
       "        vertical-align: top;\n",
       "    }\n",
       "\n",
       "    .dataframe thead th {\n",
       "        text-align: right;\n",
       "    }\n",
       "</style>\n",
       "<table border=\"1\" class=\"dataframe\">\n",
       "  <thead>\n",
       "    <tr style=\"text-align: right;\">\n",
       "      <th></th>\n",
       "      <th>date</th>\n",
       "      <th>user_id</th>\n",
       "      <th>behavior_type</th>\n",
       "      <th>action</th>\n",
       "    </tr>\n",
       "  </thead>\n",
       "  <tbody>\n",
       "    <tr>\n",
       "      <th>0</th>\n",
       "      <td>2014-11-18</td>\n",
       "      <td>4913</td>\n",
       "      <td>1</td>\n",
       "      <td>27</td>\n",
       "    </tr>\n",
       "    <tr>\n",
       "      <th>1</th>\n",
       "      <td>2014-11-18</td>\n",
       "      <td>4913</td>\n",
       "      <td>2</td>\n",
       "      <td>1</td>\n",
       "    </tr>\n",
       "    <tr>\n",
       "      <th>2</th>\n",
       "      <td>2014-11-18</td>\n",
       "      <td>7591</td>\n",
       "      <td>1</td>\n",
       "      <td>4</td>\n",
       "    </tr>\n",
       "    <tr>\n",
       "      <th>3</th>\n",
       "      <td>2014-11-18</td>\n",
       "      <td>12645</td>\n",
       "      <td>1</td>\n",
       "      <td>25</td>\n",
       "    </tr>\n",
       "    <tr>\n",
       "      <th>4</th>\n",
       "      <td>2014-11-18</td>\n",
       "      <td>54056</td>\n",
       "      <td>1</td>\n",
       "      <td>13</td>\n",
       "    </tr>\n",
       "    <tr>\n",
       "      <th>5</th>\n",
       "      <td>2014-11-18</td>\n",
       "      <td>54056</td>\n",
       "      <td>2</td>\n",
       "      <td>1</td>\n",
       "    </tr>\n",
       "    <tr>\n",
       "      <th>6</th>\n",
       "      <td>2014-11-18</td>\n",
       "      <td>54056</td>\n",
       "      <td>4</td>\n",
       "      <td>1</td>\n",
       "    </tr>\n",
       "    <tr>\n",
       "      <th>7</th>\n",
       "      <td>2014-11-18</td>\n",
       "      <td>79824</td>\n",
       "      <td>1</td>\n",
       "      <td>40</td>\n",
       "    </tr>\n",
       "    <tr>\n",
       "      <th>8</th>\n",
       "      <td>2014-11-18</td>\n",
       "      <td>79824</td>\n",
       "      <td>4</td>\n",
       "      <td>2</td>\n",
       "    </tr>\n",
       "    <tr>\n",
       "      <th>9</th>\n",
       "      <td>2014-11-18</td>\n",
       "      <td>88930</td>\n",
       "      <td>1</td>\n",
       "      <td>75</td>\n",
       "    </tr>\n",
       "    <tr>\n",
       "      <th>10</th>\n",
       "      <td>2014-11-18</td>\n",
       "      <td>88930</td>\n",
       "      <td>2</td>\n",
       "      <td>3</td>\n",
       "    </tr>\n",
       "    <tr>\n",
       "      <th>11</th>\n",
       "      <td>2014-11-18</td>\n",
       "      <td>88930</td>\n",
       "      <td>3</td>\n",
       "      <td>2</td>\n",
       "    </tr>\n",
       "    <tr>\n",
       "      <th>12</th>\n",
       "      <td>2014-11-18</td>\n",
       "      <td>88930</td>\n",
       "      <td>4</td>\n",
       "      <td>2</td>\n",
       "    </tr>\n",
       "    <tr>\n",
       "      <th>13</th>\n",
       "      <td>2014-11-18</td>\n",
       "      <td>90472</td>\n",
       "      <td>1</td>\n",
       "      <td>8</td>\n",
       "    </tr>\n",
       "    <tr>\n",
       "      <th>14</th>\n",
       "      <td>2014-11-18</td>\n",
       "      <td>100539</td>\n",
       "      <td>1</td>\n",
       "      <td>6</td>\n",
       "    </tr>\n",
       "    <tr>\n",
       "      <th>15</th>\n",
       "      <td>2014-11-18</td>\n",
       "      <td>104155</td>\n",
       "      <td>1</td>\n",
       "      <td>19</td>\n",
       "    </tr>\n",
       "    <tr>\n",
       "      <th>16</th>\n",
       "      <td>2014-11-18</td>\n",
       "      <td>113251</td>\n",
       "      <td>1</td>\n",
       "      <td>51</td>\n",
       "    </tr>\n",
       "    <tr>\n",
       "      <th>17</th>\n",
       "      <td>2014-11-18</td>\n",
       "      <td>113960</td>\n",
       "      <td>1</td>\n",
       "      <td>42</td>\n",
       "    </tr>\n",
       "    <tr>\n",
       "      <th>18</th>\n",
       "      <td>2014-11-18</td>\n",
       "      <td>151617</td>\n",
       "      <td>1</td>\n",
       "      <td>9</td>\n",
       "    </tr>\n",
       "    <tr>\n",
       "      <th>19</th>\n",
       "      <td>2014-11-18</td>\n",
       "      <td>157097</td>\n",
       "      <td>1</td>\n",
       "      <td>21</td>\n",
       "    </tr>\n",
       "  </tbody>\n",
       "</table>\n",
       "</div>"
      ],
      "text/plain": [
       "         date  user_id  behavior_type  action\n",
       "0  2014-11-18     4913              1      27\n",
       "1  2014-11-18     4913              2       1\n",
       "2  2014-11-18     7591              1       4\n",
       "3  2014-11-18    12645              1      25\n",
       "4  2014-11-18    54056              1      13\n",
       "5  2014-11-18    54056              2       1\n",
       "6  2014-11-18    54056              4       1\n",
       "7  2014-11-18    79824              1      40\n",
       "8  2014-11-18    79824              4       2\n",
       "9  2014-11-18    88930              1      75\n",
       "10 2014-11-18    88930              2       3\n",
       "11 2014-11-18    88930              3       2\n",
       "12 2014-11-18    88930              4       2\n",
       "13 2014-11-18    90472              1       8\n",
       "14 2014-11-18   100539              1       6\n",
       "15 2014-11-18   104155              1      19\n",
       "16 2014-11-18   113251              1      51\n",
       "17 2014-11-18   113960              1      42\n",
       "18 2014-11-18   151617              1       9\n",
       "19 2014-11-18   157097              1      21"
      ]
     },
     "execution_count": 52,
     "metadata": {},
     "output_type": "execute_result"
    }
   ],
   "source": [
    "# 给数据集中每一个用户赋值一个1，表示有登录操作\n",
    "data_user['action'] = 1\n",
    "\n",
    "# 得到date、user_id、behavior_type和计算用户每日的登录次数\n",
    "data_user_arpu = data_user.groupby(['date','user_id','behavior_type'])['action'].count()\n",
    "data_user_arpu = data_user_arpu.reset_index()\n",
    "data_user_arpu.head(20)"
   ]
  },
  {
   "cell_type": "code",
   "execution_count": 53,
   "id": "0f133971",
   "metadata": {
    "scrolled": true
   },
   "outputs": [
    {
     "data": {
      "text/plain": [
       "date\n",
       "2014-11-18    0.588050\n",
       "2014-11-19    0.574143\n",
       "2014-11-20    0.546660\n",
       "2014-11-21    0.481358\n",
       "2014-11-22    0.577016\n",
       "2014-11-23    0.525184\n",
       "2014-11-24    0.526025\n",
       "2014-11-25    0.545426\n",
       "2014-11-26    0.562058\n",
       "2014-11-27    0.577135\n",
       "2014-11-28    0.519955\n",
       "2014-11-29    0.515906\n",
       "2014-11-30    0.566860\n",
       "2014-12-01    0.597341\n",
       "2014-12-02    0.552824\n",
       "2014-12-03    0.589977\n",
       "2014-12-04    0.565151\n",
       "2014-12-05    0.521282\n",
       "2014-12-06    0.508075\n",
       "2014-12-07    0.507007\n",
       "2014-12-08    0.520871\n",
       "2014-12-09    0.525282\n",
       "2014-12-10    0.483464\n",
       "2014-12-11    0.467943\n",
       "2014-12-12    1.975518\n",
       "2014-12-13    0.513282\n",
       "2014-12-14    0.522346\n",
       "2014-12-15    0.554590\n",
       "2014-12-16    0.560410\n",
       "2014-12-17    0.544182\n",
       "2014-12-18    0.544819\n",
       "dtype: float64"
      ]
     },
     "execution_count": 53,
     "metadata": {},
     "output_type": "execute_result"
    }
   ],
   "source": [
    "# 计算arpu，近似公式：ARPU=每日消费次数/每日活跃用户数\n",
    "arpu = data_user_arpu.groupby('date').apply(lambda x:x[x['behavior_type']==4]['action'].sum()/len(x['user_id'].unique()))\n",
    "arpu"
   ]
  },
  {
   "cell_type": "code",
   "execution_count": 54,
   "id": "06dde4b0",
   "metadata": {},
   "outputs": [
    {
     "data": {
      "text/plain": [
       "Text(0.5, 1.0, 'ARPU')"
      ]
     },
     "execution_count": 54,
     "metadata": {},
     "output_type": "execute_result"
    },
    {
     "data": {
      "image/png": "[encoded data removed]",
      "text/plain": [
       "<Figure size 432x288 with 1 Axes>"
      ]
     },
     "metadata": {},
     "output_type": "display_data"
    }
   ],
   "source": [
    "# 可视化\n",
    "arpu.plot(colormap='cividis')\n",
    "plt.title('ARPU')"
   ]
  },
  {
   "cell_type": "markdown",
   "id": "a7157169",
   "metadata": {},
   "source": [
    "可以看到，活跃用户每天平均消费在0.5次左右，双十二期间达到最高值接近2，是平时的4倍左右，表明用户会集中在大促日的时候购买。"
   ]
  },
  {
   "cell_type": "code",
   "execution_count": 56,
   "id": "2055a3dc",
   "metadata": {},
   "outputs": [
    {
     "data": {
      "text/plain": [
       "date\n",
       "2014-11-18    1.736927e+07\n",
       "2014-11-19    1.703726e+07\n",
       "2014-11-20    1.727443e+07\n",
       "2014-11-21    1.506412e+07\n",
       "2014-11-22    1.648248e+07\n",
       "2014-11-23    1.629587e+07\n",
       "2014-11-24    1.667332e+07\n",
       "2014-11-25    1.678967e+07\n",
       "2014-11-26    1.687211e+07\n",
       "2014-11-27    1.726798e+07\n",
       "2014-11-28    1.654388e+07\n",
       "2014-11-29    1.586272e+07\n",
       "2014-11-30    1.735813e+07\n",
       "2014-12-01    1.783912e+07\n",
       "2014-12-02    1.743714e+07\n",
       "2014-12-03    1.856990e+07\n",
       "2014-12-04    1.727010e+07\n",
       "2014-12-05    1.692349e+07\n",
       "2014-12-06    1.592578e+07\n",
       "2014-12-07    1.519877e+07\n",
       "2014-12-08    1.687888e+07\n",
       "2014-12-09    1.583577e+07\n",
       "2014-12-10    1.552375e+07\n",
       "2014-12-11    1.498400e+07\n",
       "2014-12-12    3.632368e+07\n",
       "2014-12-13    1.637895e+07\n",
       "2014-12-14    1.630891e+07\n",
       "2014-12-15    1.721791e+07\n",
       "2014-12-16    1.760508e+07\n",
       "2014-12-17    1.671157e+07\n",
       "2014-12-18    1.719244e+07\n",
       "dtype: float64"
      ]
     },
     "execution_count": 56,
     "metadata": {},
     "output_type": "execute_result"
    }
   ],
   "source": [
    "# 计算ARPU过程中，分子使用的是购买累计次数，如果分子只统计购买的用户数，那么就能得到下单率\n",
    "arpu01 = data_user_arpu.groupby('date').apply(lambda x:x[x['behavior_type']==4]['user_id'].sum()/len(x['user_id'].unique()))\n",
    "arpu01"
   ]
  },
  {
   "cell_type": "code",
   "execution_count": 57,
   "id": "44082ee4",
   "metadata": {},
   "outputs": [
    {
     "data": {
      "text/plain": [
       "Text(0.5, 1.0, 'ARPU')"
      ]
     },
     "execution_count": 57,
     "metadata": {},
     "output_type": "execute_result"
    },
    {
     "data": {
      "image/png": "[encoded data removed]",
      "text/plain": [
       "<Figure size 432x288 with 1 Axes>"
      ]
     },
     "metadata": {},
     "output_type": "display_data"
    }
   ],
   "source": [
    "# 可视化\n",
    "arpu01.plot(colormap='cividis')\n",
    "plt.title('ARPU')"
   ]
  },
  {
   "cell_type": "markdown",
   "id": "16923aff",
   "metadata": {},
   "source": [
    "可以看到，活跃用户每天的下单数在1.5-2之间，双十二期间达到最高值接近4，是平时的2倍左右。\n"
   ]
  },
  {
   "cell_type": "markdown",
   "id": "1f465fc8",
   "metadata": {},
   "source": [
    "# 6.ARPPU分析"
   ]
  },
  {
   "cell_type": "code",
   "execution_count": 58,
   "id": "82373f20",
   "metadata": {},
   "outputs": [
    {
     "data": {
      "text/html": [
       "<div>\n",
       "<style scoped>\n",
       "    .dataframe tbody tr th:only-of-type {\n",
       "        vertical-align: middle;\n",
       "    }\n",
       "\n",
       "    .dataframe tbody tr th {\n",
       "        vertical-align: top;\n",
       "    }\n",
       "\n",
       "    .dataframe thead th {\n",
       "        text-align: right;\n",
       "    }\n",
       "</style>\n",
       "<table border=\"1\" class=\"dataframe\">\n",
       "  <thead>\n",
       "    <tr style=\"text-align: right;\">\n",
       "      <th></th>\n",
       "      <th>date</th>\n",
       "      <th>user_id</th>\n",
       "      <th>buy_count</th>\n",
       "    </tr>\n",
       "  </thead>\n",
       "  <tbody>\n",
       "    <tr>\n",
       "      <th>0</th>\n",
       "      <td>2014-11-18</td>\n",
       "      <td>54056</td>\n",
       "      <td>1</td>\n",
       "    </tr>\n",
       "    <tr>\n",
       "      <th>1</th>\n",
       "      <td>2014-11-18</td>\n",
       "      <td>79824</td>\n",
       "      <td>2</td>\n",
       "    </tr>\n",
       "    <tr>\n",
       "      <th>2</th>\n",
       "      <td>2014-11-18</td>\n",
       "      <td>88930</td>\n",
       "      <td>2</td>\n",
       "    </tr>\n",
       "    <tr>\n",
       "      <th>3</th>\n",
       "      <td>2014-11-18</td>\n",
       "      <td>247543</td>\n",
       "      <td>5</td>\n",
       "    </tr>\n",
       "    <tr>\n",
       "      <th>4</th>\n",
       "      <td>2014-11-18</td>\n",
       "      <td>475826</td>\n",
       "      <td>3</td>\n",
       "    </tr>\n",
       "  </tbody>\n",
       "</table>\n",
       "</div>"
      ],
      "text/plain": [
       "        date  user_id  buy_count\n",
       "0 2014-11-18    54056          1\n",
       "1 2014-11-18    79824          2\n",
       "2 2014-11-18    88930          2\n",
       "3 2014-11-18   247543          5\n",
       "4 2014-11-18   475826          3"
      ]
     },
     "execution_count": 58,
     "metadata": {},
     "output_type": "execute_result"
    }
   ],
   "source": [
    "# 计算每日的所有用户的购买次数\n",
    "data_user_arppu = data_user[data_user['behavior_type']==4].groupby(['date','user_id'])['behavior_type'].count()\n",
    "data_user_arppu = data_user_arppu.reset_index().rename(columns={'behavior_type':'buy_count'})\n",
    "data_user_arppu.head()"
   ]
  },
  {
   "cell_type": "code",
   "execution_count": 59,
   "id": "0c89cf42",
   "metadata": {},
   "outputs": [
    {
     "data": {
      "text/plain": [
       "date\n",
       "2014-11-18    2.423652\n",
       "2014-11-19    2.439444\n",
       "2014-11-20    2.320375\n",
       "2014-11-21    2.271429\n",
       "2014-11-22    2.530120\n",
       "2014-11-23    2.330780\n",
       "2014-11-24    2.248031\n",
       "2014-11-25    2.313961\n",
       "2014-11-26    2.402824\n",
       "2014-11-27    2.403405\n",
       "2014-11-28    2.231623\n",
       "2014-11-29    2.331881\n",
       "2014-11-30    2.357236\n",
       "2014-12-01    2.359083\n",
       "2014-12-02    2.284543\n",
       "2014-12-03    2.289334\n",
       "2014-12-04    2.328707\n",
       "2014-12-05    2.223041\n",
       "2014-12-06    2.253444\n",
       "2014-12-07    2.320741\n",
       "2014-12-08    2.204384\n",
       "2014-12-09    2.413576\n",
       "2014-12-10    2.230236\n",
       "2014-12-11    2.226363\n",
       "2014-12-12    3.913523\n",
       "2014-12-13    2.245320\n",
       "2014-12-14    2.312749\n",
       "2014-12-15    2.313460\n",
       "2014-12-16    2.285455\n",
       "2014-12-17    2.302548\n",
       "2014-12-18    2.310567\n",
       "dtype: float64"
      ]
     },
     "execution_count": 59,
     "metadata": {},
     "output_type": "execute_result"
    }
   ],
   "source": [
    "# 计算ARPPU\n",
    "data_user_arppu = data_user_arppu.groupby('date').apply(lambda x:x['buy_count'].sum()/x['user_id'].count())\n",
    "data_user_arppu"
   ]
  },
  {
   "cell_type": "code",
   "execution_count": 60,
   "id": "493b4ec0",
   "metadata": {},
   "outputs": [
    {
     "data": {
      "text/plain": [
       "Text(0.5, 1.0, 'ARPPU')"
      ]
     },
     "execution_count": 60,
     "metadata": {},
     "output_type": "execute_result"
    },
    {
     "data": {
      "image/png": "[encoded data removed]",
      "text/plain": [
       "<Figure size 432x288 with 1 Axes>"
      ]
     },
     "metadata": {},
     "output_type": "display_data"
    }
   ],
   "source": [
    "data_user_arppu.plot(colormap='cividis')\n",
    "plt.title('ARPPU')"
   ]
  },
  {
   "cell_type": "markdown",
   "id": "cd0f6c87",
   "metadata": {},
   "source": [
    "可以看到，针对活跃的下单用户来讲，平均每日消费次数在2-2.5次之间波动，双十二当天该数值达超过3.75，一个可能的原因是用户会在平时把喜欢的商品进行加购，等到双十二促销当天再下单购买。\n",
    "\n"
   ]
  },
  {
   "cell_type": "markdown",
   "id": "a2ed0637",
   "metadata": {},
   "source": [
    "# 7. 复购情况分析"
   ]
  },
  {
   "cell_type": "markdown",
   "id": "b0e68412",
   "metadata": {},
   "source": [
    "一般来说，复购是指对产品的重复购买行为。但是这个定义在商业上是不精确的，假若一个用户在一天内多次在淘宝购买商品，不能说明这件用户对淘宝的依赖（有可能是某位用户只是第一次用，但是买的量大）。因此商业分析过程中，对于复购行为进行明确的定义。这里的复购是指：两天以上都在该平台产生了购买行为，需要指出一天多次的购买不算是复购。\n",
    "\n",
    "因此复购率的计算方式为：复购率 = 复购用户数量 / 有购买行为的用户数量。"
   ]
  },
  {
   "cell_type": "code",
   "execution_count": 61,
   "id": "94fab72a",
   "metadata": {},
   "outputs": [
    {
     "data": {
      "text/plain": [
       "user_id\n",
       "4913         5\n",
       "6118         1\n",
       "7528         6\n",
       "7591         9\n",
       "12645        4\n",
       "            ..\n",
       "142376113    1\n",
       "142412247    7\n",
       "142430177    5\n",
       "142450275    8\n",
       "142455899    7\n",
       "Name: date, Length: 8886, dtype: int64"
      ]
     },
     "execution_count": 61,
     "metadata": {},
     "output_type": "execute_result"
    }
   ],
   "source": [
    "# 计算用户购买频次\n",
    "data_user_pay = data_user[data_user.behavior_type==4]\n",
    "# 基于data去重，得到的结果即为购物分布的天数：\n",
    "data_user_pay = data_user_pay.groupby('user_id')['date'].apply(lambda x:len(x.unique()))\n",
    "data_user_pay"
   ]
  },
  {
   "cell_type": "code",
   "execution_count": 62,
   "id": "6a09bb70",
   "metadata": {},
   "outputs": [
    {
     "data": {
      "text/plain": [
       "0.8717083051991897"
      ]
     },
     "execution_count": 62,
     "metadata": {},
     "output_type": "execute_result"
    }
   ],
   "source": [
    "# 计算复购率\n",
    "repeat_buy_ratio = data_user_pay[data_user_pay > 1].count()/data_user_pay.count()\n",
    "repeat_buy_ratio"
   ]
  },
  {
   "cell_type": "markdown",
   "id": "a8084ca8",
   "metadata": {},
   "source": [
    "说明这批抽样数据在1个月内的复购率还是相当高的，达到了0.87."
   ]
  },
  {
   "cell_type": "markdown",
   "id": "e8d21ca0",
   "metadata": {},
   "source": [
    "# 8.复购周期分析"
   ]
  },
  {
   "cell_type": "markdown",
   "id": "5ae6fdd8",
   "metadata": {},
   "source": [
    "除了以上对复购频次的统计，还需要对复购意向做进一步的探究，想要知道用户多久复购一次 ，这个数据有助于淘宝产品宣传在这个时间间隔内采取策略，增加用户的复购意向，最终转化为实际收益。"
   ]
  },
  {
   "cell_type": "code",
   "execution_count": 64,
   "id": "9f648bf5",
   "metadata": {},
   "outputs": [
    {
     "data": {
      "text/html": [
       "<div>\n",
       "<style scoped>\n",
       "    .dataframe tbody tr th:only-of-type {\n",
       "        vertical-align: middle;\n",
       "    }\n",
       "\n",
       "    .dataframe tbody tr th {\n",
       "        vertical-align: top;\n",
       "    }\n",
       "\n",
       "    .dataframe thead th {\n",
       "        text-align: right;\n",
       "    }\n",
       "</style>\n",
       "<table border=\"1\" class=\"dataframe\">\n",
       "  <thead>\n",
       "    <tr style=\"text-align: right;\">\n",
       "      <th></th>\n",
       "      <th>user_id</th>\n",
       "      <th>date</th>\n",
       "      <th>action</th>\n",
       "    </tr>\n",
       "  </thead>\n",
       "  <tbody>\n",
       "    <tr>\n",
       "      <th>0</th>\n",
       "      <td>4913</td>\n",
       "      <td>2014-12-01</td>\n",
       "      <td>1</td>\n",
       "    </tr>\n",
       "    <tr>\n",
       "      <th>1</th>\n",
       "      <td>4913</td>\n",
       "      <td>2014-12-07</td>\n",
       "      <td>2</td>\n",
       "    </tr>\n",
       "    <tr>\n",
       "      <th>2</th>\n",
       "      <td>4913</td>\n",
       "      <td>2014-12-11</td>\n",
       "      <td>1</td>\n",
       "    </tr>\n",
       "    <tr>\n",
       "      <th>3</th>\n",
       "      <td>4913</td>\n",
       "      <td>2014-12-13</td>\n",
       "      <td>1</td>\n",
       "    </tr>\n",
       "    <tr>\n",
       "      <th>4</th>\n",
       "      <td>4913</td>\n",
       "      <td>2014-12-16</td>\n",
       "      <td>1</td>\n",
       "    </tr>\n",
       "    <tr>\n",
       "      <th>5</th>\n",
       "      <td>6118</td>\n",
       "      <td>2014-12-17</td>\n",
       "      <td>1</td>\n",
       "    </tr>\n",
       "    <tr>\n",
       "      <th>6</th>\n",
       "      <td>7528</td>\n",
       "      <td>2014-11-22</td>\n",
       "      <td>1</td>\n",
       "    </tr>\n",
       "    <tr>\n",
       "      <th>7</th>\n",
       "      <td>7528</td>\n",
       "      <td>2014-11-26</td>\n",
       "      <td>1</td>\n",
       "    </tr>\n",
       "    <tr>\n",
       "      <th>8</th>\n",
       "      <td>7528</td>\n",
       "      <td>2014-11-27</td>\n",
       "      <td>1</td>\n",
       "    </tr>\n",
       "    <tr>\n",
       "      <th>9</th>\n",
       "      <td>7528</td>\n",
       "      <td>2014-11-30</td>\n",
       "      <td>1</td>\n",
       "    </tr>\n",
       "    <tr>\n",
       "      <th>10</th>\n",
       "      <td>7528</td>\n",
       "      <td>2014-12-03</td>\n",
       "      <td>1</td>\n",
       "    </tr>\n",
       "    <tr>\n",
       "      <th>11</th>\n",
       "      <td>7528</td>\n",
       "      <td>2014-12-13</td>\n",
       "      <td>1</td>\n",
       "    </tr>\n",
       "    <tr>\n",
       "      <th>12</th>\n",
       "      <td>7591</td>\n",
       "      <td>2014-11-25</td>\n",
       "      <td>1</td>\n",
       "    </tr>\n",
       "    <tr>\n",
       "      <th>13</th>\n",
       "      <td>7591</td>\n",
       "      <td>2014-12-02</td>\n",
       "      <td>1</td>\n",
       "    </tr>\n",
       "    <tr>\n",
       "      <th>14</th>\n",
       "      <td>7591</td>\n",
       "      <td>2014-12-03</td>\n",
       "      <td>1</td>\n",
       "    </tr>\n",
       "    <tr>\n",
       "      <th>15</th>\n",
       "      <td>7591</td>\n",
       "      <td>2014-12-04</td>\n",
       "      <td>3</td>\n",
       "    </tr>\n",
       "    <tr>\n",
       "      <th>16</th>\n",
       "      <td>7591</td>\n",
       "      <td>2014-12-06</td>\n",
       "      <td>2</td>\n",
       "    </tr>\n",
       "    <tr>\n",
       "      <th>17</th>\n",
       "      <td>7591</td>\n",
       "      <td>2014-12-10</td>\n",
       "      <td>4</td>\n",
       "    </tr>\n",
       "    <tr>\n",
       "      <th>18</th>\n",
       "      <td>7591</td>\n",
       "      <td>2014-12-11</td>\n",
       "      <td>3</td>\n",
       "    </tr>\n",
       "    <tr>\n",
       "      <th>19</th>\n",
       "      <td>7591</td>\n",
       "      <td>2014-12-12</td>\n",
       "      <td>4</td>\n",
       "    </tr>\n",
       "  </tbody>\n",
       "</table>\n",
       "</div>"
      ],
      "text/plain": [
       "    user_id       date  action\n",
       "0      4913 2014-12-01       1\n",
       "1      4913 2014-12-07       2\n",
       "2      4913 2014-12-11       1\n",
       "3      4913 2014-12-13       1\n",
       "4      4913 2014-12-16       1\n",
       "5      6118 2014-12-17       1\n",
       "6      7528 2014-11-22       1\n",
       "7      7528 2014-11-26       1\n",
       "8      7528 2014-11-27       1\n",
       "9      7528 2014-11-30       1\n",
       "10     7528 2014-12-03       1\n",
       "11     7528 2014-12-13       1\n",
       "12     7591 2014-11-25       1\n",
       "13     7591 2014-12-02       1\n",
       "14     7591 2014-12-03       1\n",
       "15     7591 2014-12-04       3\n",
       "16     7591 2014-12-06       2\n",
       "17     7591 2014-12-10       4\n",
       "18     7591 2014-12-11       3\n",
       "19     7591 2014-12-12       4"
      ]
     },
     "execution_count": 64,
     "metadata": {},
     "output_type": "execute_result"
    }
   ],
   "source": [
    "data_user['action'] = 1 # 对每一行的行为记为1次，通过对行为次数的相加，从而计算频次\n",
    "data_user_buy = data_user[data_user.behavior_type==4]\n",
    "data_user_buy = data_user_buy.groupby(['user_id','date'])['action'].count()\n",
    "data_user_buy = data_user_buy.reset_index()\n",
    "data_user_buy.head(20)"
   ]
  },
  {
   "cell_type": "code",
   "execution_count": 65,
   "id": "e96a7aaa",
   "metadata": {},
   "outputs": [
    {
     "data": {
      "text/plain": [
       "user_id    \n",
       "4913     1     6 days\n",
       "         2     4 days\n",
       "         3     2 days\n",
       "         4     3 days\n",
       "7528     7     4 days\n",
       "         8     1 days\n",
       "         9     3 days\n",
       "         10    3 days\n",
       "         11   10 days\n",
       "7591     13    7 days\n",
       "         14    1 days\n",
       "         15    1 days\n",
       "         16    2 days\n",
       "         17    4 days\n",
       "         18    1 days\n",
       "         19    1 days\n",
       "         20    1 days\n",
       "12645    22    2 days\n",
       "         23    4 days\n",
       "         24   11 days\n",
       "54056    26   19 days\n",
       "79824    29    9 days\n",
       "         30    8 days\n",
       "         31    6 days\n",
       "         32    1 days\n",
       "         33    1 days\n",
       "         34    3 days\n",
       "88930    36    2 days\n",
       "         37    2 days\n",
       "         38    1 days\n",
       "Name: date, dtype: timedelta64[ns]"
      ]
     },
     "execution_count": 65,
     "metadata": {},
     "output_type": "execute_result"
    }
   ],
   "source": [
    "# 对日期排序（按照先后顺序），给予pandas的date函数计算前后两次购物相差的天数，dropna去掉了每个用户在数据集周期内第一次购买日期的记录：\n",
    "data_user_buy_date_diff = data_user_buy.groupby('user_id').date.apply(lambda x:x.sort_values().diff(1).dropna())\n",
    "\n",
    "data_user_buy_date_diff.head(30)"
   ]
  },
  {
   "cell_type": "code",
   "execution_count": 67,
   "id": "8fac09d5",
   "metadata": {},
   "outputs": [
    {
     "data": {
      "text/plain": [
       "Text(0, 0.5, 'count')"
      ]
     },
     "execution_count": 67,
     "metadata": {},
     "output_type": "execute_result"
    },
    {
     "data": {
      "image/png": "[encoded data removed]",
      "text/plain": [
       "<Figure size 432x288 with 1 Axes>"
      ]
     },
     "metadata": {},
     "output_type": "display_data"
    }
   ],
   "source": [
    "# 对复购间隔进行可视化\n",
    "data_user_buy_date_diff.value_counts().plot(kind='line')\n",
    "plt.xlabel('repeat_day_diff')\n",
    "plt.ylabel('count')"
   ]
  },
  {
   "cell_type": "code",
   "execution_count": 68,
   "id": "dd5558c8",
   "metadata": {},
   "outputs": [
    {
     "data": {
      "text/plain": [
       "0        NaN\n",
       "1        6.0\n",
       "2        4.0\n",
       "3        2.0\n",
       "4        3.0\n",
       "        ... \n",
       "49196    2.0\n",
       "49197    2.0\n",
       "49198    4.0\n",
       "49199    3.0\n",
       "49200    1.0\n",
       "Name: date, Length: 49201, dtype: float64"
      ]
     },
     "execution_count": 68,
     "metadata": {},
     "output_type": "execute_result"
    }
   ],
   "source": [
    "data_user_buy_date_diff = data_user_buy_date_diff.apply(lambda x:x.days)\n",
    "data_user_buy_date_diff"
   ]
  },
  {
   "cell_type": "code",
   "execution_count": 70,
   "id": "521341db",
   "metadata": {},
   "outputs": [
    {
     "data": {
      "text/plain": [
       "Text(0, 0.5, 'count')"
      ]
     },
     "execution_count": 70,
     "metadata": {},
     "output_type": "execute_result"
    },
    {
     "data": {
      "image/png": "[encoded data removed]",
      "text/plain": [
       "<Figure size 432x288 with 1 Axes>"
      ]
     },
     "metadata": {},
     "output_type": "display_data"
    }
   ],
   "source": [
    "data_user_buy_date_diff.value_counts().plot(kind='line')\n",
    "plt.xlabel('repeat_day_diff')\n",
    "plt.ylabel('count')"
   ]
  },
  {
   "cell_type": "markdown",
   "id": "3af184e0",
   "metadata": {},
   "source": [
    "可以看出，大部分用户的复购行为发生在5天之内，在第5天复购的行为出现了明显的拐点，可以在这个时候采取营销策略来提升用户的购买意图，增加更多收益。超过15天后，复购的意愿基本已经趋于0，此时可以考虑采取一些召回策略，增加复购的可能性，防止用户的流失。"
   ]
  },
  {
   "cell_type": "markdown",
   "id": "705ca442",
   "metadata": {},
   "source": [
    "利用该数据集还可以完成基于商品、商品类目的分析，如淘宝网top10浏览量最大/购买次数最多的商品/商品类目等"
   ]
  },
  {
   "cell_type": "code",
   "execution_count": null,
   "id": "9c58afe2",
   "metadata": {},
   "outputs": [],
   "source": []
  }
 ],
 "metadata": {
  "kernelspec": {
   "display_name": "Python 3 (ipykernel)",
   "language": "python",
   "name": "python3"
  },
  "language_info": {
   "codemirror_mode": {
    "name": "ipython",
    "version": 3
   },
   "file_extension": ".py",
   "mimetype": "text/x-python",
   "name": "python",
   "nbconvert_exporter": "python",
   "pygments_lexer": "ipython3",
   "version": "3.9.12"
  }
 },
 "nbformat": 4,
 "nbformat_minor": 5
}
